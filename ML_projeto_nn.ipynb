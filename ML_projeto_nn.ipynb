{
 "cells": [
  {
   "cell_type": "markdown",
   "metadata": {},
   "source": [
    "# Without normalization"
   ]
  },
  {
   "cell_type": "code",
   "execution_count": 1,
   "metadata": {},
   "outputs": [],
   "source": [
    "import pandas as pd\n",
    "import numpy as np\n",
    "\n",
    "import warnings \n",
    "warnings.filterwarnings('ignore')\n"
   ]
  },
  {
   "cell_type": "code",
   "execution_count": 2,
   "metadata": {},
   "outputs": [],
   "source": [
    "full_ds=pd.read_excel('full_ds_new.xlsx')"
   ]
  },
  {
   "cell_type": "code",
   "execution_count": 3,
   "metadata": {},
   "outputs": [],
   "source": [
    "full_ds=full_ds.set_index('Phage_KL')"
   ]
  },
  {
   "cell_type": "code",
   "execution_count": 4,
   "metadata": {},
   "outputs": [
    {
     "data": {
      "text/html": [
       "<div>\n",
       "<style scoped>\n",
       "    .dataframe tbody tr th:only-of-type {\n",
       "        vertical-align: middle;\n",
       "    }\n",
       "\n",
       "    .dataframe tbody tr th {\n",
       "        vertical-align: top;\n",
       "    }\n",
       "\n",
       "    .dataframe thead th {\n",
       "        text-align: right;\n",
       "    }\n",
       "</style>\n",
       "<table border=\"1\" class=\"dataframe\">\n",
       "  <thead>\n",
       "    <tr style=\"text-align: right;\">\n",
       "      <th></th>\n",
       "      <th>POSITIVE</th>\n",
       "      <th>A</th>\n",
       "      <th>C</th>\n",
       "      <th>D</th>\n",
       "      <th>E</th>\n",
       "      <th>F</th>\n",
       "      <th>G</th>\n",
       "      <th>H</th>\n",
       "      <th>I</th>\n",
       "      <th>K</th>\n",
       "      <th>...</th>\n",
       "      <th>Turn</th>\n",
       "      <th>Sheet</th>\n",
       "      <th>DNA_Size</th>\n",
       "      <th>Prot_Size</th>\n",
       "      <th>GC_Content_DNA</th>\n",
       "      <th>AT_Content_DNA</th>\n",
       "      <th>DNA_A</th>\n",
       "      <th>DNA_C</th>\n",
       "      <th>DNA_G</th>\n",
       "      <th>DNA_T</th>\n",
       "    </tr>\n",
       "    <tr>\n",
       "      <th>Phage_KL</th>\n",
       "      <th></th>\n",
       "      <th></th>\n",
       "      <th></th>\n",
       "      <th></th>\n",
       "      <th></th>\n",
       "      <th></th>\n",
       "      <th></th>\n",
       "      <th></th>\n",
       "      <th></th>\n",
       "      <th></th>\n",
       "      <th></th>\n",
       "      <th></th>\n",
       "      <th></th>\n",
       "      <th></th>\n",
       "      <th></th>\n",
       "      <th></th>\n",
       "      <th></th>\n",
       "      <th></th>\n",
       "      <th></th>\n",
       "      <th></th>\n",
       "      <th></th>\n",
       "    </tr>\n",
       "  </thead>\n",
       "  <tbody>\n",
       "    <tr>\n",
       "      <th>ASN73504-KL1</th>\n",
       "      <td>YES</td>\n",
       "      <td>75</td>\n",
       "      <td>11</td>\n",
       "      <td>39</td>\n",
       "      <td>31</td>\n",
       "      <td>39</td>\n",
       "      <td>63</td>\n",
       "      <td>11</td>\n",
       "      <td>44</td>\n",
       "      <td>29</td>\n",
       "      <td>...</td>\n",
       "      <td>0.256342</td>\n",
       "      <td>0.230975</td>\n",
       "      <td>22010</td>\n",
       "      <td>749</td>\n",
       "      <td>34.375284</td>\n",
       "      <td>65.624716</td>\n",
       "      <td>6921</td>\n",
       "      <td>3379</td>\n",
       "      <td>4187</td>\n",
       "      <td>7523</td>\n",
       "    </tr>\n",
       "    <tr>\n",
       "      <th>YP_009103257-KL1</th>\n",
       "      <td>YES</td>\n",
       "      <td>66</td>\n",
       "      <td>11</td>\n",
       "      <td>43</td>\n",
       "      <td>29</td>\n",
       "      <td>34</td>\n",
       "      <td>60</td>\n",
       "      <td>16</td>\n",
       "      <td>38</td>\n",
       "      <td>24</td>\n",
       "      <td>...</td>\n",
       "      <td>0.263812</td>\n",
       "      <td>0.215470</td>\n",
       "      <td>22010</td>\n",
       "      <td>724</td>\n",
       "      <td>34.375284</td>\n",
       "      <td>65.624716</td>\n",
       "      <td>6921</td>\n",
       "      <td>3379</td>\n",
       "      <td>4187</td>\n",
       "      <td>7523</td>\n",
       "    </tr>\n",
       "    <tr>\n",
       "      <th>ASN73401-KL2</th>\n",
       "      <td>YES</td>\n",
       "      <td>57</td>\n",
       "      <td>10</td>\n",
       "      <td>42</td>\n",
       "      <td>29</td>\n",
       "      <td>32</td>\n",
       "      <td>65</td>\n",
       "      <td>12</td>\n",
       "      <td>45</td>\n",
       "      <td>33</td>\n",
       "      <td>...</td>\n",
       "      <td>0.268956</td>\n",
       "      <td>0.197425</td>\n",
       "      <td>25308</td>\n",
       "      <td>699</td>\n",
       "      <td>33.791686</td>\n",
       "      <td>66.208314</td>\n",
       "      <td>8160</td>\n",
       "      <td>3815</td>\n",
       "      <td>4737</td>\n",
       "      <td>8596</td>\n",
       "    </tr>\n",
       "    <tr>\n",
       "      <th>AZU99242-KL2</th>\n",
       "      <td>YES</td>\n",
       "      <td>79</td>\n",
       "      <td>8</td>\n",
       "      <td>41</td>\n",
       "      <td>28</td>\n",
       "      <td>38</td>\n",
       "      <td>56</td>\n",
       "      <td>6</td>\n",
       "      <td>39</td>\n",
       "      <td>26</td>\n",
       "      <td>...</td>\n",
       "      <td>0.242424</td>\n",
       "      <td>0.216450</td>\n",
       "      <td>25308</td>\n",
       "      <td>693</td>\n",
       "      <td>33.791686</td>\n",
       "      <td>66.208314</td>\n",
       "      <td>8160</td>\n",
       "      <td>3815</td>\n",
       "      <td>4737</td>\n",
       "      <td>8596</td>\n",
       "    </tr>\n",
       "    <tr>\n",
       "      <th>YP_009288671-KL2</th>\n",
       "      <td>YES</td>\n",
       "      <td>54</td>\n",
       "      <td>10</td>\n",
       "      <td>43</td>\n",
       "      <td>27</td>\n",
       "      <td>33</td>\n",
       "      <td>65</td>\n",
       "      <td>13</td>\n",
       "      <td>44</td>\n",
       "      <td>32</td>\n",
       "      <td>...</td>\n",
       "      <td>0.266094</td>\n",
       "      <td>0.194564</td>\n",
       "      <td>25308</td>\n",
       "      <td>699</td>\n",
       "      <td>33.791686</td>\n",
       "      <td>66.208314</td>\n",
       "      <td>8160</td>\n",
       "      <td>3815</td>\n",
       "      <td>4737</td>\n",
       "      <td>8596</td>\n",
       "    </tr>\n",
       "    <tr>\n",
       "      <th>...</th>\n",
       "      <td>...</td>\n",
       "      <td>...</td>\n",
       "      <td>...</td>\n",
       "      <td>...</td>\n",
       "      <td>...</td>\n",
       "      <td>...</td>\n",
       "      <td>...</td>\n",
       "      <td>...</td>\n",
       "      <td>...</td>\n",
       "      <td>...</td>\n",
       "      <td>...</td>\n",
       "      <td>...</td>\n",
       "      <td>...</td>\n",
       "      <td>...</td>\n",
       "      <td>...</td>\n",
       "      <td>...</td>\n",
       "      <td>...</td>\n",
       "      <td>...</td>\n",
       "      <td>...</td>\n",
       "      <td>...</td>\n",
       "      <td>...</td>\n",
       "    </tr>\n",
       "    <tr>\n",
       "      <th>AZU99395-KL116</th>\n",
       "      <td>NO</td>\n",
       "      <td>48</td>\n",
       "      <td>7</td>\n",
       "      <td>44</td>\n",
       "      <td>30</td>\n",
       "      <td>20</td>\n",
       "      <td>52</td>\n",
       "      <td>12</td>\n",
       "      <td>50</td>\n",
       "      <td>33</td>\n",
       "      <td>...</td>\n",
       "      <td>0.240413</td>\n",
       "      <td>0.202065</td>\n",
       "      <td>28147</td>\n",
       "      <td>678</td>\n",
       "      <td>34.788787</td>\n",
       "      <td>65.204107</td>\n",
       "      <td>8916</td>\n",
       "      <td>4316</td>\n",
       "      <td>5476</td>\n",
       "      <td>9437</td>\n",
       "    </tr>\n",
       "    <tr>\n",
       "      <th>AZU99445-KL116</th>\n",
       "      <td>NO</td>\n",
       "      <td>67</td>\n",
       "      <td>11</td>\n",
       "      <td>48</td>\n",
       "      <td>38</td>\n",
       "      <td>36</td>\n",
       "      <td>64</td>\n",
       "      <td>16</td>\n",
       "      <td>57</td>\n",
       "      <td>30</td>\n",
       "      <td>...</td>\n",
       "      <td>0.261557</td>\n",
       "      <td>0.198297</td>\n",
       "      <td>28147</td>\n",
       "      <td>822</td>\n",
       "      <td>34.788787</td>\n",
       "      <td>65.204107</td>\n",
       "      <td>8916</td>\n",
       "      <td>4316</td>\n",
       "      <td>5476</td>\n",
       "      <td>9437</td>\n",
       "    </tr>\n",
       "    <tr>\n",
       "      <th>QGK90444-KL116</th>\n",
       "      <td>NO</td>\n",
       "      <td>57</td>\n",
       "      <td>11</td>\n",
       "      <td>43</td>\n",
       "      <td>32</td>\n",
       "      <td>37</td>\n",
       "      <td>64</td>\n",
       "      <td>9</td>\n",
       "      <td>50</td>\n",
       "      <td>30</td>\n",
       "      <td>...</td>\n",
       "      <td>0.253989</td>\n",
       "      <td>0.219415</td>\n",
       "      <td>28147</td>\n",
       "      <td>752</td>\n",
       "      <td>34.788787</td>\n",
       "      <td>65.204107</td>\n",
       "      <td>8916</td>\n",
       "      <td>4316</td>\n",
       "      <td>5476</td>\n",
       "      <td>9437</td>\n",
       "    </tr>\n",
       "    <tr>\n",
       "      <th>QVW53860-KL116</th>\n",
       "      <td>NO</td>\n",
       "      <td>43</td>\n",
       "      <td>9</td>\n",
       "      <td>55</td>\n",
       "      <td>36</td>\n",
       "      <td>33</td>\n",
       "      <td>49</td>\n",
       "      <td>17</td>\n",
       "      <td>73</td>\n",
       "      <td>46</td>\n",
       "      <td>...</td>\n",
       "      <td>0.303100</td>\n",
       "      <td>0.181401</td>\n",
       "      <td>28147</td>\n",
       "      <td>871</td>\n",
       "      <td>34.788787</td>\n",
       "      <td>65.204107</td>\n",
       "      <td>8916</td>\n",
       "      <td>4316</td>\n",
       "      <td>5476</td>\n",
       "      <td>9437</td>\n",
       "    </tr>\n",
       "    <tr>\n",
       "      <th>QGK90498-KL116</th>\n",
       "      <td>NO</td>\n",
       "      <td>57</td>\n",
       "      <td>12</td>\n",
       "      <td>36</td>\n",
       "      <td>31</td>\n",
       "      <td>33</td>\n",
       "      <td>68</td>\n",
       "      <td>21</td>\n",
       "      <td>49</td>\n",
       "      <td>22</td>\n",
       "      <td>...</td>\n",
       "      <td>0.275000</td>\n",
       "      <td>0.212500</td>\n",
       "      <td>28147</td>\n",
       "      <td>720</td>\n",
       "      <td>34.788787</td>\n",
       "      <td>65.204107</td>\n",
       "      <td>8916</td>\n",
       "      <td>4316</td>\n",
       "      <td>5476</td>\n",
       "      <td>9437</td>\n",
       "    </tr>\n",
       "  </tbody>\n",
       "</table>\n",
       "<p>151 rows × 35 columns</p>\n",
       "</div>"
      ],
      "text/plain": [
       "                 POSITIVE   A   C   D   E   F   G   H   I   K  ...      Turn  \\\n",
       "Phage_KL                                                       ...             \n",
       "ASN73504-KL1          YES  75  11  39  31  39  63  11  44  29  ...  0.256342   \n",
       "YP_009103257-KL1      YES  66  11  43  29  34  60  16  38  24  ...  0.263812   \n",
       "ASN73401-KL2          YES  57  10  42  29  32  65  12  45  33  ...  0.268956   \n",
       "AZU99242-KL2          YES  79   8  41  28  38  56   6  39  26  ...  0.242424   \n",
       "YP_009288671-KL2      YES  54  10  43  27  33  65  13  44  32  ...  0.266094   \n",
       "...                   ...  ..  ..  ..  ..  ..  ..  ..  ..  ..  ...       ...   \n",
       "AZU99395-KL116         NO  48   7  44  30  20  52  12  50  33  ...  0.240413   \n",
       "AZU99445-KL116         NO  67  11  48  38  36  64  16  57  30  ...  0.261557   \n",
       "QGK90444-KL116         NO  57  11  43  32  37  64   9  50  30  ...  0.253989   \n",
       "QVW53860-KL116         NO  43   9  55  36  33  49  17  73  46  ...  0.303100   \n",
       "QGK90498-KL116         NO  57  12  36  31  33  68  21  49  22  ...  0.275000   \n",
       "\n",
       "                     Sheet  DNA_Size  Prot_Size  GC_Content_DNA  \\\n",
       "Phage_KL                                                          \n",
       "ASN73504-KL1      0.230975     22010        749       34.375284   \n",
       "YP_009103257-KL1  0.215470     22010        724       34.375284   \n",
       "ASN73401-KL2      0.197425     25308        699       33.791686   \n",
       "AZU99242-KL2      0.216450     25308        693       33.791686   \n",
       "YP_009288671-KL2  0.194564     25308        699       33.791686   \n",
       "...                    ...       ...        ...             ...   \n",
       "AZU99395-KL116    0.202065     28147        678       34.788787   \n",
       "AZU99445-KL116    0.198297     28147        822       34.788787   \n",
       "QGK90444-KL116    0.219415     28147        752       34.788787   \n",
       "QVW53860-KL116    0.181401     28147        871       34.788787   \n",
       "QGK90498-KL116    0.212500     28147        720       34.788787   \n",
       "\n",
       "                  AT_Content_DNA  DNA_A  DNA_C  DNA_G  DNA_T  \n",
       "Phage_KL                                                      \n",
       "ASN73504-KL1           65.624716   6921   3379   4187   7523  \n",
       "YP_009103257-KL1       65.624716   6921   3379   4187   7523  \n",
       "ASN73401-KL2           66.208314   8160   3815   4737   8596  \n",
       "AZU99242-KL2           66.208314   8160   3815   4737   8596  \n",
       "YP_009288671-KL2       66.208314   8160   3815   4737   8596  \n",
       "...                          ...    ...    ...    ...    ...  \n",
       "AZU99395-KL116         65.204107   8916   4316   5476   9437  \n",
       "AZU99445-KL116         65.204107   8916   4316   5476   9437  \n",
       "QGK90444-KL116         65.204107   8916   4316   5476   9437  \n",
       "QVW53860-KL116         65.204107   8916   4316   5476   9437  \n",
       "QGK90498-KL116         65.204107   8916   4316   5476   9437  \n",
       "\n",
       "[151 rows x 35 columns]"
      ]
     },
     "execution_count": 4,
     "metadata": {},
     "output_type": "execute_result"
    }
   ],
   "source": [
    "full_ds"
   ]
  },
  {
   "cell_type": "code",
   "execution_count": 4,
   "metadata": {},
   "outputs": [],
   "source": [
    "y = full_ds['POSITIVE']\n",
    "X = full_ds.drop(['POSITIVE'], axis=1)"
   ]
  },
  {
   "cell_type": "code",
   "execution_count": 5,
   "metadata": {},
   "outputs": [
    {
     "data": {
      "text/plain": [
       "Phage_KL\n",
       "ASN73504-KL1        YES\n",
       "YP_009103257-KL1    YES\n",
       "ASN73401-KL2        YES\n",
       "AZU99242-KL2        YES\n",
       "YP_009288671-KL2    YES\n",
       "                   ... \n",
       "AZU99395-KL116       NO\n",
       "AZU99445-KL116       NO\n",
       "QGK90444-KL116       NO\n",
       "QVW53860-KL116       NO\n",
       "QGK90498-KL116       NO\n",
       "Name: POSITIVE, Length: 151, dtype: object"
      ]
     },
     "execution_count": 5,
     "metadata": {},
     "output_type": "execute_result"
    }
   ],
   "source": [
    "y"
   ]
  },
  {
   "cell_type": "code",
   "execution_count": 7,
   "metadata": {},
   "outputs": [
    {
     "data": {
      "text/html": [
       "<div>\n",
       "<style scoped>\n",
       "    .dataframe tbody tr th:only-of-type {\n",
       "        vertical-align: middle;\n",
       "    }\n",
       "\n",
       "    .dataframe tbody tr th {\n",
       "        vertical-align: top;\n",
       "    }\n",
       "\n",
       "    .dataframe thead th {\n",
       "        text-align: right;\n",
       "    }\n",
       "</style>\n",
       "<table border=\"1\" class=\"dataframe\">\n",
       "  <thead>\n",
       "    <tr style=\"text-align: right;\">\n",
       "      <th></th>\n",
       "      <th>A</th>\n",
       "      <th>C</th>\n",
       "      <th>D</th>\n",
       "      <th>E</th>\n",
       "      <th>F</th>\n",
       "      <th>G</th>\n",
       "      <th>H</th>\n",
       "      <th>I</th>\n",
       "      <th>K</th>\n",
       "      <th>L</th>\n",
       "      <th>...</th>\n",
       "      <th>Turn</th>\n",
       "      <th>Sheet</th>\n",
       "      <th>DNA_Size</th>\n",
       "      <th>Prot_Size</th>\n",
       "      <th>GC_Content_DNA</th>\n",
       "      <th>AT_Content_DNA</th>\n",
       "      <th>DNA_A</th>\n",
       "      <th>DNA_C</th>\n",
       "      <th>DNA_G</th>\n",
       "      <th>DNA_T</th>\n",
       "    </tr>\n",
       "    <tr>\n",
       "      <th>Phage_KL</th>\n",
       "      <th></th>\n",
       "      <th></th>\n",
       "      <th></th>\n",
       "      <th></th>\n",
       "      <th></th>\n",
       "      <th></th>\n",
       "      <th></th>\n",
       "      <th></th>\n",
       "      <th></th>\n",
       "      <th></th>\n",
       "      <th></th>\n",
       "      <th></th>\n",
       "      <th></th>\n",
       "      <th></th>\n",
       "      <th></th>\n",
       "      <th></th>\n",
       "      <th></th>\n",
       "      <th></th>\n",
       "      <th></th>\n",
       "      <th></th>\n",
       "      <th></th>\n",
       "    </tr>\n",
       "  </thead>\n",
       "  <tbody>\n",
       "    <tr>\n",
       "      <th>ASN73504-KL1</th>\n",
       "      <td>75</td>\n",
       "      <td>11</td>\n",
       "      <td>39</td>\n",
       "      <td>31</td>\n",
       "      <td>39</td>\n",
       "      <td>63</td>\n",
       "      <td>11</td>\n",
       "      <td>44</td>\n",
       "      <td>29</td>\n",
       "      <td>52</td>\n",
       "      <td>...</td>\n",
       "      <td>0.256342</td>\n",
       "      <td>0.230975</td>\n",
       "      <td>22010</td>\n",
       "      <td>749</td>\n",
       "      <td>34.375284</td>\n",
       "      <td>65.624716</td>\n",
       "      <td>6921</td>\n",
       "      <td>3379</td>\n",
       "      <td>4187</td>\n",
       "      <td>7523</td>\n",
       "    </tr>\n",
       "    <tr>\n",
       "      <th>YP_009103257-KL1</th>\n",
       "      <td>66</td>\n",
       "      <td>11</td>\n",
       "      <td>43</td>\n",
       "      <td>29</td>\n",
       "      <td>34</td>\n",
       "      <td>60</td>\n",
       "      <td>16</td>\n",
       "      <td>38</td>\n",
       "      <td>24</td>\n",
       "      <td>52</td>\n",
       "      <td>...</td>\n",
       "      <td>0.263812</td>\n",
       "      <td>0.215470</td>\n",
       "      <td>22010</td>\n",
       "      <td>724</td>\n",
       "      <td>34.375284</td>\n",
       "      <td>65.624716</td>\n",
       "      <td>6921</td>\n",
       "      <td>3379</td>\n",
       "      <td>4187</td>\n",
       "      <td>7523</td>\n",
       "    </tr>\n",
       "    <tr>\n",
       "      <th>ASN73401-KL2</th>\n",
       "      <td>57</td>\n",
       "      <td>10</td>\n",
       "      <td>42</td>\n",
       "      <td>29</td>\n",
       "      <td>32</td>\n",
       "      <td>65</td>\n",
       "      <td>12</td>\n",
       "      <td>45</td>\n",
       "      <td>33</td>\n",
       "      <td>40</td>\n",
       "      <td>...</td>\n",
       "      <td>0.268956</td>\n",
       "      <td>0.197425</td>\n",
       "      <td>25308</td>\n",
       "      <td>699</td>\n",
       "      <td>33.791686</td>\n",
       "      <td>66.208314</td>\n",
       "      <td>8160</td>\n",
       "      <td>3815</td>\n",
       "      <td>4737</td>\n",
       "      <td>8596</td>\n",
       "    </tr>\n",
       "    <tr>\n",
       "      <th>AZU99242-KL2</th>\n",
       "      <td>79</td>\n",
       "      <td>8</td>\n",
       "      <td>41</td>\n",
       "      <td>28</td>\n",
       "      <td>38</td>\n",
       "      <td>56</td>\n",
       "      <td>6</td>\n",
       "      <td>39</td>\n",
       "      <td>26</td>\n",
       "      <td>35</td>\n",
       "      <td>...</td>\n",
       "      <td>0.242424</td>\n",
       "      <td>0.216450</td>\n",
       "      <td>25308</td>\n",
       "      <td>693</td>\n",
       "      <td>33.791686</td>\n",
       "      <td>66.208314</td>\n",
       "      <td>8160</td>\n",
       "      <td>3815</td>\n",
       "      <td>4737</td>\n",
       "      <td>8596</td>\n",
       "    </tr>\n",
       "    <tr>\n",
       "      <th>YP_009288671-KL2</th>\n",
       "      <td>54</td>\n",
       "      <td>10</td>\n",
       "      <td>43</td>\n",
       "      <td>27</td>\n",
       "      <td>33</td>\n",
       "      <td>65</td>\n",
       "      <td>13</td>\n",
       "      <td>44</td>\n",
       "      <td>32</td>\n",
       "      <td>43</td>\n",
       "      <td>...</td>\n",
       "      <td>0.266094</td>\n",
       "      <td>0.194564</td>\n",
       "      <td>25308</td>\n",
       "      <td>699</td>\n",
       "      <td>33.791686</td>\n",
       "      <td>66.208314</td>\n",
       "      <td>8160</td>\n",
       "      <td>3815</td>\n",
       "      <td>4737</td>\n",
       "      <td>8596</td>\n",
       "    </tr>\n",
       "    <tr>\n",
       "      <th>...</th>\n",
       "      <td>...</td>\n",
       "      <td>...</td>\n",
       "      <td>...</td>\n",
       "      <td>...</td>\n",
       "      <td>...</td>\n",
       "      <td>...</td>\n",
       "      <td>...</td>\n",
       "      <td>...</td>\n",
       "      <td>...</td>\n",
       "      <td>...</td>\n",
       "      <td>...</td>\n",
       "      <td>...</td>\n",
       "      <td>...</td>\n",
       "      <td>...</td>\n",
       "      <td>...</td>\n",
       "      <td>...</td>\n",
       "      <td>...</td>\n",
       "      <td>...</td>\n",
       "      <td>...</td>\n",
       "      <td>...</td>\n",
       "      <td>...</td>\n",
       "    </tr>\n",
       "    <tr>\n",
       "      <th>AZU99395-KL116</th>\n",
       "      <td>48</td>\n",
       "      <td>7</td>\n",
       "      <td>44</td>\n",
       "      <td>30</td>\n",
       "      <td>20</td>\n",
       "      <td>52</td>\n",
       "      <td>12</td>\n",
       "      <td>50</td>\n",
       "      <td>33</td>\n",
       "      <td>50</td>\n",
       "      <td>...</td>\n",
       "      <td>0.240413</td>\n",
       "      <td>0.202065</td>\n",
       "      <td>28147</td>\n",
       "      <td>678</td>\n",
       "      <td>34.788787</td>\n",
       "      <td>65.204107</td>\n",
       "      <td>8916</td>\n",
       "      <td>4316</td>\n",
       "      <td>5476</td>\n",
       "      <td>9437</td>\n",
       "    </tr>\n",
       "    <tr>\n",
       "      <th>AZU99445-KL116</th>\n",
       "      <td>67</td>\n",
       "      <td>11</td>\n",
       "      <td>48</td>\n",
       "      <td>38</td>\n",
       "      <td>36</td>\n",
       "      <td>64</td>\n",
       "      <td>16</td>\n",
       "      <td>57</td>\n",
       "      <td>30</td>\n",
       "      <td>45</td>\n",
       "      <td>...</td>\n",
       "      <td>0.261557</td>\n",
       "      <td>0.198297</td>\n",
       "      <td>28147</td>\n",
       "      <td>822</td>\n",
       "      <td>34.788787</td>\n",
       "      <td>65.204107</td>\n",
       "      <td>8916</td>\n",
       "      <td>4316</td>\n",
       "      <td>5476</td>\n",
       "      <td>9437</td>\n",
       "    </tr>\n",
       "    <tr>\n",
       "      <th>QGK90444-KL116</th>\n",
       "      <td>57</td>\n",
       "      <td>11</td>\n",
       "      <td>43</td>\n",
       "      <td>32</td>\n",
       "      <td>37</td>\n",
       "      <td>64</td>\n",
       "      <td>9</td>\n",
       "      <td>50</td>\n",
       "      <td>30</td>\n",
       "      <td>61</td>\n",
       "      <td>...</td>\n",
       "      <td>0.253989</td>\n",
       "      <td>0.219415</td>\n",
       "      <td>28147</td>\n",
       "      <td>752</td>\n",
       "      <td>34.788787</td>\n",
       "      <td>65.204107</td>\n",
       "      <td>8916</td>\n",
       "      <td>4316</td>\n",
       "      <td>5476</td>\n",
       "      <td>9437</td>\n",
       "    </tr>\n",
       "    <tr>\n",
       "      <th>QVW53860-KL116</th>\n",
       "      <td>43</td>\n",
       "      <td>9</td>\n",
       "      <td>55</td>\n",
       "      <td>36</td>\n",
       "      <td>33</td>\n",
       "      <td>49</td>\n",
       "      <td>17</td>\n",
       "      <td>73</td>\n",
       "      <td>46</td>\n",
       "      <td>69</td>\n",
       "      <td>...</td>\n",
       "      <td>0.303100</td>\n",
       "      <td>0.181401</td>\n",
       "      <td>28147</td>\n",
       "      <td>871</td>\n",
       "      <td>34.788787</td>\n",
       "      <td>65.204107</td>\n",
       "      <td>8916</td>\n",
       "      <td>4316</td>\n",
       "      <td>5476</td>\n",
       "      <td>9437</td>\n",
       "    </tr>\n",
       "    <tr>\n",
       "      <th>QGK90498-KL116</th>\n",
       "      <td>57</td>\n",
       "      <td>12</td>\n",
       "      <td>36</td>\n",
       "      <td>31</td>\n",
       "      <td>33</td>\n",
       "      <td>68</td>\n",
       "      <td>21</td>\n",
       "      <td>49</td>\n",
       "      <td>22</td>\n",
       "      <td>55</td>\n",
       "      <td>...</td>\n",
       "      <td>0.275000</td>\n",
       "      <td>0.212500</td>\n",
       "      <td>28147</td>\n",
       "      <td>720</td>\n",
       "      <td>34.788787</td>\n",
       "      <td>65.204107</td>\n",
       "      <td>8916</td>\n",
       "      <td>4316</td>\n",
       "      <td>5476</td>\n",
       "      <td>9437</td>\n",
       "    </tr>\n",
       "  </tbody>\n",
       "</table>\n",
       "<p>151 rows × 34 columns</p>\n",
       "</div>"
      ],
      "text/plain": [
       "                   A   C   D   E   F   G   H   I   K   L  ...      Turn  \\\n",
       "Phage_KL                                                  ...             \n",
       "ASN73504-KL1      75  11  39  31  39  63  11  44  29  52  ...  0.256342   \n",
       "YP_009103257-KL1  66  11  43  29  34  60  16  38  24  52  ...  0.263812   \n",
       "ASN73401-KL2      57  10  42  29  32  65  12  45  33  40  ...  0.268956   \n",
       "AZU99242-KL2      79   8  41  28  38  56   6  39  26  35  ...  0.242424   \n",
       "YP_009288671-KL2  54  10  43  27  33  65  13  44  32  43  ...  0.266094   \n",
       "...               ..  ..  ..  ..  ..  ..  ..  ..  ..  ..  ...       ...   \n",
       "AZU99395-KL116    48   7  44  30  20  52  12  50  33  50  ...  0.240413   \n",
       "AZU99445-KL116    67  11  48  38  36  64  16  57  30  45  ...  0.261557   \n",
       "QGK90444-KL116    57  11  43  32  37  64   9  50  30  61  ...  0.253989   \n",
       "QVW53860-KL116    43   9  55  36  33  49  17  73  46  69  ...  0.303100   \n",
       "QGK90498-KL116    57  12  36  31  33  68  21  49  22  55  ...  0.275000   \n",
       "\n",
       "                     Sheet  DNA_Size  Prot_Size  GC_Content_DNA  \\\n",
       "Phage_KL                                                          \n",
       "ASN73504-KL1      0.230975     22010        749       34.375284   \n",
       "YP_009103257-KL1  0.215470     22010        724       34.375284   \n",
       "ASN73401-KL2      0.197425     25308        699       33.791686   \n",
       "AZU99242-KL2      0.216450     25308        693       33.791686   \n",
       "YP_009288671-KL2  0.194564     25308        699       33.791686   \n",
       "...                    ...       ...        ...             ...   \n",
       "AZU99395-KL116    0.202065     28147        678       34.788787   \n",
       "AZU99445-KL116    0.198297     28147        822       34.788787   \n",
       "QGK90444-KL116    0.219415     28147        752       34.788787   \n",
       "QVW53860-KL116    0.181401     28147        871       34.788787   \n",
       "QGK90498-KL116    0.212500     28147        720       34.788787   \n",
       "\n",
       "                  AT_Content_DNA  DNA_A  DNA_C  DNA_G  DNA_T  \n",
       "Phage_KL                                                      \n",
       "ASN73504-KL1           65.624716   6921   3379   4187   7523  \n",
       "YP_009103257-KL1       65.624716   6921   3379   4187   7523  \n",
       "ASN73401-KL2           66.208314   8160   3815   4737   8596  \n",
       "AZU99242-KL2           66.208314   8160   3815   4737   8596  \n",
       "YP_009288671-KL2       66.208314   8160   3815   4737   8596  \n",
       "...                          ...    ...    ...    ...    ...  \n",
       "AZU99395-KL116         65.204107   8916   4316   5476   9437  \n",
       "AZU99445-KL116         65.204107   8916   4316   5476   9437  \n",
       "QGK90444-KL116         65.204107   8916   4316   5476   9437  \n",
       "QVW53860-KL116         65.204107   8916   4316   5476   9437  \n",
       "QGK90498-KL116         65.204107   8916   4316   5476   9437  \n",
       "\n",
       "[151 rows x 34 columns]"
      ]
     },
     "execution_count": 7,
     "metadata": {},
     "output_type": "execute_result"
    }
   ],
   "source": [
    "X"
   ]
  },
  {
   "cell_type": "code",
   "execution_count": 5,
   "metadata": {},
   "outputs": [
    {
     "data": {
      "text/plain": [
       "array([1, 1, 1, 1, 1, 1, 1, 1, 1, 1, 1, 1, 1, 1, 1, 1, 1, 1, 1, 0, 0, 0,\n",
       "       0, 0, 0, 0, 0, 0, 0, 0, 0, 0, 0, 0, 0, 0, 0, 0, 0, 0, 0, 0, 0, 0,\n",
       "       0, 0, 0, 0, 0, 0, 0, 0, 0, 0, 0, 0, 0, 0, 0, 0, 0, 0, 0, 0, 0, 0,\n",
       "       0, 0, 0, 0, 0, 0, 0, 0, 0, 0, 0, 0, 0, 0, 0, 0, 0, 0, 0, 0, 0, 0,\n",
       "       0, 0, 0, 0, 0, 0, 0, 0, 0, 0, 0, 0, 0, 0, 0, 0, 0, 0, 0, 0, 0, 0,\n",
       "       0, 0, 0, 0, 0, 0, 0, 0, 0, 0, 0, 0, 0, 0, 0, 0, 0, 0, 0, 0, 0, 0,\n",
       "       0, 0, 0, 0, 0, 0, 0, 0, 0, 0, 0, 0, 0, 0, 0, 0, 0, 0, 0])"
      ]
     },
     "execution_count": 5,
     "metadata": {},
     "output_type": "execute_result"
    }
   ],
   "source": [
    "from sklearn.preprocessing import LabelEncoder\n",
    "label_encoder = LabelEncoder()\n",
    "y = label_encoder.fit_transform(y)\n",
    "y"
   ]
  },
  {
   "cell_type": "code",
   "execution_count": 6,
   "metadata": {},
   "outputs": [],
   "source": [
    "from sklearn.model_selection import train_test_split, cross_validate\n",
    "\n",
    "X_train, X_test, y_train, y_test = train_test_split(X, y, test_size=0.40)"
   ]
  },
  {
   "cell_type": "code",
   "execution_count": 7,
   "metadata": {},
   "outputs": [
    {
     "name": "stdout",
     "output_type": "stream",
     "text": [
      "(90, 34)\n",
      "(61, 34)\n",
      "(90,)\n",
      "(61,)\n"
     ]
    }
   ],
   "source": [
    "print(X_train.shape)\n",
    "print(X_test.shape)\n",
    "print(y_train.shape)\n",
    "print(y_test.shape)"
   ]
  },
  {
   "cell_type": "markdown",
   "metadata": {},
   "source": [
    "# RANDOM FOREST"
   ]
  },
  {
   "cell_type": "code",
   "execution_count": 2,
   "metadata": {},
   "outputs": [],
   "source": [
    "from sklearn.ensemble import RandomForestClassifier\n",
    "\n",
    "rfc_model=RandomForestClassifier()\n"
   ]
  },
  {
   "cell_type": "code",
   "execution_count": 3,
   "metadata": {},
   "outputs": [
    {
     "data": {
      "text/plain": [
       "RandomizedSearchCV(cv=5, estimator=RandomForestClassifier(),\n",
       "                   param_distributions={'criterion': ['gini', 'entropy'],\n",
       "                                        'max_depth': [4, 5, 6, 7, 8],\n",
       "                                        'max_features': ['auto', 'sqrt',\n",
       "                                                         'log2'],\n",
       "                                        'n_estimators': [100, 200, 300, 400,\n",
       "                                                         500]})"
      ]
     },
     "execution_count": 3,
     "metadata": {},
     "output_type": "execute_result"
    }
   ],
   "source": [
    "from sklearn.model_selection import RandomizedSearchCV, train_test_split, cross_validate\n",
    "\n",
    "# https://www.kaggle.com/code/sociopath00/random-forest-using-gridsearchcv/notebook\n",
    "\n",
    "parameters = { \n",
    "    'n_estimators': [100,200,300,400, 500],\n",
    "    'max_features': ['auto', 'sqrt', 'log2'],\n",
    "    'max_depth' : [4,5,6,7,8],\n",
    "    'criterion' : ['gini', 'entropy']\n",
    "\n",
    "}\n",
    "rand_search_rfc = RandomizedSearchCV(estimator=rfc_model, param_distributions=parameters, cv=5)\n",
    "rand_search_rfc.fit(X_train, y_train)"
   ]
  },
  {
   "cell_type": "code",
   "execution_count": 4,
   "metadata": {},
   "outputs": [
    {
     "name": "stdout",
     "output_type": "stream",
     "text": [
      "rand_search_rfc.best_params_:  {'n_estimators': 200, 'max_features': 'auto', 'max_depth': 6, 'criterion': 'gini'}\n"
     ]
    }
   ],
   "source": [
    "print('rand_search_rfc.best_params_: ',rand_search_rfc.best_params_)"
   ]
  },
  {
   "cell_type": "code",
   "execution_count": 5,
   "metadata": {},
   "outputs": [],
   "source": [
    "new_rfc_model = RandomForestClassifier(**rand_search_rfc.best_params_)"
   ]
  },
  {
   "cell_type": "code",
   "execution_count": 6,
   "metadata": {},
   "outputs": [
    {
     "name": "stdout",
     "output_type": "stream",
     "text": [
      "Métrica: test_accuracy\n",
      "Resultados de cada fold: [0.77777778 0.88888889 0.88888889 0.88888889 0.83333333]\n",
      "Média de todas as folds: 0.8555555555555555\n",
      "Desvio padrão: 0.04444444444444442\n",
      "Métrica: train_accuracy\n",
      "Resultados de cada fold: [1.         1.         0.97222222 1.         0.98611111]\n",
      "Média de todas as folds: 0.9916666666666668\n",
      "Desvio padrão: 0.01111111111111111\n",
      "Métrica: test_precision\n",
      "Resultados de cada fold: [0. 0. 0. 0. 0.]\n",
      "Média de todas as folds: 0.0\n",
      "Desvio padrão: 0.0\n",
      "Métrica: train_precision\n",
      "Resultados de cada fold: [1. 1. 1. 1. 1.]\n",
      "Média de todas as folds: 1.0\n",
      "Desvio padrão: 0.0\n",
      "Métrica: test_recall\n",
      "Resultados de cada fold: [0. 0. 0. 0. 0.]\n",
      "Média de todas as folds: 0.0\n",
      "Desvio padrão: 0.0\n",
      "Métrica: train_recall\n",
      "Resultados de cada fold: [1.         1.         0.77777778 1.         0.875     ]\n",
      "Média de todas as folds: 0.9305555555555556\n",
      "Desvio padrão: 0.09043789220055391\n",
      "Métrica: test_f1\n",
      "Resultados de cada fold: [0. 0. 0. 0. 0.]\n",
      "Média de todas as folds: 0.0\n",
      "Desvio padrão: 0.0\n",
      "Métrica: train_f1\n",
      "Resultados de cada fold: [1.         1.         0.875      1.         0.93333333]\n",
      "Média de todas as folds: 0.9616666666666667\n",
      "Desvio padrão: 0.05044248650140515\n"
     ]
    }
   ],
   "source": [
    "# https://scikit-learn.org/stable/modules/cross_validation.html?highlight=cross_validation\n",
    "\n",
    "from sklearn.model_selection import cross_validate\n",
    "\n",
    "scoring_metrics = ['accuracy', 'precision', 'recall', 'f1']\n",
    "\n",
    "cv_scores_rfc = cross_validate(new_rfc_model, X_train, y_train, cv=5, scoring=scoring_metrics, return_train_score=True)\n",
    "\n",
    "for key, value in cv_scores_rfc.items():\n",
    "    if key != \"fit_time\" and key != \"score_time\":\n",
    "        print(\"Métrica: %s\" % key)\n",
    "        print(\"Resultados de cada fold: %s\" % value) # resultados de cada fold\n",
    "        print(\"Média de todas as folds: %s\" % np.mean(value))\n",
    "        print(\"Desvio padrão: %s\" % np.std(value))"
   ]
  },
  {
   "cell_type": "code",
   "execution_count": 7,
   "metadata": {},
   "outputs": [],
   "source": [
    "better_rfc_model = new_rfc_model.fit(X_train, y_train)"
   ]
  },
  {
   "cell_type": "code",
   "execution_count": 8,
   "metadata": {},
   "outputs": [
    {
     "name": "stdout",
     "output_type": "stream",
     "text": [
      "Accuracy for Random Forest on CV data:  0.8688524590163934\n",
      "Precision for Random Forest on CV data:  0.0\n",
      "Recall for Random Forest on CV data:  0.0\n"
     ]
    }
   ],
   "source": [
    "from sklearn.metrics import accuracy_score, precision_score, recall_score\n",
    "\n",
    "y_pred = better_rfc_model.predict(X_test)\n",
    "print(\"Accuracy for Random Forest on CV data: \",accuracy_score(y_test,y_pred))  \n",
    "print(\"Precision for Random Forest on CV data: \",precision_score(y_test,y_pred))\n",
    "print(\"Recall for Random Forest on CV data: \",recall_score(y_test,y_pred))"
   ]
  },
  {
   "cell_type": "code",
   "execution_count": 11,
   "metadata": {},
   "outputs": [
    {
     "data": {
      "text/plain": [
       "Text(91.68, 0.5, 'predicted label')"
      ]
     },
     "execution_count": 11,
     "metadata": {},
     "output_type": "execute_result"
    },
    {
     "data": {
      "image/png": "[encoded data removed]",
      "text/plain": [
       "<Figure size 432x288 with 1 Axes>"
      ]
     },
     "metadata": {
      "needs_background": "light"
     },
     "output_type": "display_data"
    }
   ],
   "source": [
    "from sklearn.metrics import confusion_matrix\n",
    "from sklearn.metrics import *\n",
    "import seaborn as sns\n",
    "import matplotlib.pyplot as plt\n",
    "\n",
    "cm_rfc = confusion_matrix(y_test, y_pred)\n",
    "\n",
    "sns.heatmap(cm_rfc.T, square=True, annot=True, fmt='d', cbar=False)\n",
    "plt.xlabel('true label')\n",
    "plt.ylabel('predicted label')\n",
    "\n"
   ]
  },
  {
   "cell_type": "code",
   "execution_count": 12,
   "metadata": {},
   "outputs": [
    {
     "name": "stdout",
     "output_type": "stream",
     "text": [
      "              precision    recall  f1-score   support\n",
      "\n",
      "           0       0.87      1.00      0.93        53\n",
      "           1       0.00      0.00      0.00         8\n",
      "\n",
      "    accuracy                           0.87        61\n",
      "   macro avg       0.43      0.50      0.46        61\n",
      "weighted avg       0.75      0.87      0.81        61\n",
      "\n"
     ]
    }
   ],
   "source": [
    "from sklearn.metrics import classification_report\n",
    "\n",
    "y_true, y_pred = y_test, better_rfc_model.predict(X_test)\n",
    "print(classification_report(y_true, y_pred))"
   ]
  },
  {
   "cell_type": "code",
   "execution_count": 13,
   "metadata": {},
   "outputs": [
    {
     "name": "stdout",
     "output_type": "stream",
     "text": [
      "Feature: A Score: 0.02910\n",
      "Feature: C Score: 0.00836\n",
      "Feature: D Score: 0.01663\n",
      "Feature: E Score: 0.02749\n",
      "Feature: F Score: 0.03136\n",
      "Feature: G Score: 0.01029\n",
      "Feature: H Score: 0.01167\n",
      "Feature: I Score: 0.01930\n",
      "Feature: K Score: 0.01098\n",
      "Feature: L Score: 0.01912\n",
      "Feature: M Score: 0.02570\n",
      "Feature: N Score: 0.01198\n",
      "Feature: P Score: 0.01353\n",
      "Feature: Q Score: 0.00853\n",
      "Feature: R Score: 0.02434\n",
      "Feature: S Score: 0.04132\n",
      "Feature: T Score: 0.02792\n",
      "Feature: V Score: 0.01438\n",
      "Feature: W Score: 0.00981\n",
      "Feature: Y Score: 0.02037\n",
      "Feature: Molecular_weight Score: 0.03455\n",
      "Feature: Isoelectric_Point Score: 0.02202\n",
      "Feature: Aromaticity Score: 0.02096\n",
      "Feature: Helix Score: 0.01540\n",
      "Feature: Turn Score: 0.01614\n",
      "Feature: Sheet Score: 0.04098\n",
      "Feature: DNA_Size Score: 0.05538\n",
      "Feature: Prot_Size Score: 0.01579\n",
      "Feature: GC_Content_DNA Score: 0.06940\n",
      "Feature: AT_Content_DNA Score: 0.07265\n",
      "Feature: DNA_A Score: 0.06500\n",
      "Feature: DNA_C Score: 0.06225\n",
      "Feature: DNA_G Score: 0.06780\n",
      "Feature: DNA_T Score: 0.05947\n"
     ]
    }
   ],
   "source": [
    "from matplotlib import pyplot\n",
    "\n",
    "importance_rfc = better_rfc_model.feature_importances_\n",
    "feats = X.columns.tolist()\n",
    "# summarize feature importance\n",
    "for i,v in enumerate(importance_rfc):\n",
    "\tprint('Feature:', feats[i], 'Score: %.5f' % (v))"
   ]
  },
  {
   "cell_type": "code",
   "execution_count": 14,
   "metadata": {},
   "outputs": [
    {
     "data": {
      "text/plain": [
       "<matplotlib.axes._subplots.AxesSubplot at 0x2376e7aab50>"
      ]
     },
     "execution_count": 14,
     "metadata": {},
     "output_type": "execute_result"
    },
    {
     "data": {
      "image/png": "[encoded data removed]",
      "text/plain": [
       "<Figure size 1080x576 with 1 Axes>"
      ]
     },
     "metadata": {
      "needs_background": "light"
     },
     "output_type": "display_data"
    }
   ],
   "source": [
    "dic_features = dict(zip(feats, importance_rfc))\n",
    "\n",
    "feat_imp = pd.DataFrame.from_dict(dic_features, orient='index', columns=['importance'])\n",
    "\n",
    "feat_imp.plot(kind='barh',figsize=(15, 8))"
   ]
  },
  {
   "cell_type": "markdown",
   "metadata": {},
   "source": [
    "# SUPPORT VECTOR MACHINE"
   ]
  },
  {
   "cell_type": "code",
   "execution_count": 2,
   "metadata": {},
   "outputs": [],
   "source": [
    "from sklearn.svm import SVC\n",
    "\n",
    "svc_model = SVC()"
   ]
  },
  {
   "cell_type": "code",
   "execution_count": 3,
   "metadata": {},
   "outputs": [
    {
     "data": {
      "text/plain": [
       "RandomizedSearchCV(cv=5, estimator=SVC(),\n",
       "                   param_distributions={'C': [0.1, 1, 10, 100, 1000],\n",
       "                                        'gamma': [1, 0.1, 0.01, 0.001, 0.0001],\n",
       "                                        'kernel': ['linear']})"
      ]
     },
     "execution_count": 3,
     "metadata": {},
     "output_type": "execute_result"
    }
   ],
   "source": [
    "# https://datagy.io/python-support-vector-machines/\n",
    "# https://holypython.com/svm/support-vector-machine-optimization-parameters/\n",
    "\n",
    "from sklearn.model_selection import RandomizedSearchCV\n",
    "\n",
    "from scipy.stats import uniform as sp_randFloat\n",
    "from scipy.stats import randint as sp_randInt\n",
    "\n",
    "params = {\n",
    "    'C': [0.1,1, 10, 100, 1000],\n",
    "    'gamma': [1, 0.1, 0.01, 0.001, 0.0001],\n",
    "    'kernel': ['linear']\n",
    "}\n",
    "\n",
    "\n",
    "rand_search_svc = RandomizedSearchCV(estimator=svc_model, param_distributions=params, cv=5)\n",
    "rand_search_svc.fit(X_train, y_train)"
   ]
  },
  {
   "cell_type": "code",
   "execution_count": 4,
   "metadata": {},
   "outputs": [
    {
     "name": "stdout",
     "output_type": "stream",
     "text": [
      "rand_search_svc.best_params_:  {'kernel': 'linear', 'gamma': 0.0001, 'C': 100}\n"
     ]
    }
   ],
   "source": [
    "print('rand_search_svc.best_params_: ',rand_search_svc.best_params_)"
   ]
  },
  {
   "cell_type": "code",
   "execution_count": 5,
   "metadata": {},
   "outputs": [],
   "source": [
    "new_svc_model = SVC(**rand_search_svc.best_params_)"
   ]
  },
  {
   "cell_type": "code",
   "execution_count": 6,
   "metadata": {},
   "outputs": [
    {
     "name": "stdout",
     "output_type": "stream",
     "text": [
      "Métrica: test_accuracy\n",
      "Resultados de cada fold: [0.88888889 0.88888889 0.88888889 0.88888889 0.83333333]\n",
      "Média de todas as folds: 0.8777777777777777\n",
      "Desvio padrão: 0.02222222222222219\n",
      "Métrica: train_accuracy\n",
      "Resultados de cada fold: [0.88888889 0.90277778 0.90277778 0.88888889 0.91666667]\n",
      "Média de todas as folds: 0.9\n",
      "Desvio padrão: 0.010393492741038736\n",
      "Métrica: test_precision\n",
      "Resultados de cada fold: [0. 0. 0. 0. 0.]\n",
      "Média de todas as folds: 0.0\n",
      "Desvio padrão: 0.0\n",
      "Métrica: train_precision\n",
      "Resultados de cada fold: [1. 1. 1. 1. 1.]\n",
      "Média de todas as folds: 1.0\n",
      "Desvio padrão: 0.0\n",
      "Métrica: test_recall\n",
      "Resultados de cada fold: [0. 0. 0. 0. 0.]\n",
      "Média de todas as folds: 0.0\n",
      "Desvio padrão: 0.0\n",
      "Métrica: train_recall\n",
      "Resultados de cada fold: [0.11111111 0.22222222 0.22222222 0.11111111 0.25      ]\n",
      "Média de todas as folds: 0.18333333333333335\n",
      "Desvio padrão: 0.05983516452371671\n",
      "Métrica: test_f1\n",
      "Resultados de cada fold: [0. 0. 0. 0. 0.]\n",
      "Média de todas as folds: 0.0\n",
      "Desvio padrão: 0.0\n",
      "Métrica: train_f1\n",
      "Resultados de cada fold: [0.2        0.36363636 0.36363636 0.2        0.4       ]\n",
      "Média de todas as folds: 0.3054545454545455\n",
      "Desvio padrão: 0.08712108036880684\n"
     ]
    }
   ],
   "source": [
    "from sklearn.model_selection import cross_validate\n",
    "\n",
    "scoring_metrics = ['accuracy', 'precision', 'recall', 'f1']\n",
    "\n",
    "cv_scores_svc = cross_validate(new_svc_model, X_train, y_train, cv=5, scoring=scoring_metrics, return_train_score=True)\n",
    "\n",
    "for key, value in cv_scores_svc.items():\n",
    "    if key != \"fit_time\" and key != \"score_time\":\n",
    "        print(\"Métrica: %s\" % key)\n",
    "        print(\"Resultados de cada fold: %s\" % value) # resultados de cada fold\n",
    "        print(\"Média de todas as folds: %s\" % np.mean(value))\n",
    "        print(\"Desvio padrão: %s\" % np.std(value))"
   ]
  },
  {
   "cell_type": "code",
   "execution_count": 7,
   "metadata": {},
   "outputs": [],
   "source": [
    "better_svc_model = new_svc_model.fit(X_train, y_train)"
   ]
  },
  {
   "cell_type": "code",
   "execution_count": 8,
   "metadata": {},
   "outputs": [
    {
     "name": "stdout",
     "output_type": "stream",
     "text": [
      "Accuracy for Support Vector Machine on CV data:  0.8688524590163934\n",
      "Precision for Support Vector Machine on CV data:  0.0\n",
      "Recall for Support Vector Machine on CV data:  0.0\n"
     ]
    }
   ],
   "source": [
    "from sklearn.metrics import accuracy_score, precision_score, recall_score, f1_score\n",
    "\n",
    "y_pred = better_svc_model.predict(X_test)\n",
    "print(\"Accuracy for Support Vector Machine on CV data: \",accuracy_score(y_test,y_pred))  \n",
    "print(\"Precision for Support Vector Machine on CV data: \",precision_score(y_test,y_pred))\n",
    "print(\"Recall for Support Vector Machine on CV data: \",recall_score(y_test,y_pred))"
   ]
  },
  {
   "cell_type": "code",
   "execution_count": 9,
   "metadata": {},
   "outputs": [
    {
     "data": {
      "text/plain": [
       "Text(91.68, 0.5, 'predicted label')"
      ]
     },
     "execution_count": 9,
     "metadata": {},
     "output_type": "execute_result"
    },
    {
     "data": {
      "image/png": "[encoded data removed]",
      "text/plain": [
       "<Figure size 432x288 with 1 Axes>"
      ]
     },
     "metadata": {
      "needs_background": "light"
     },
     "output_type": "display_data"
    }
   ],
   "source": [
    "from sklearn.metrics import confusion_matrix\n",
    "from sklearn.metrics import *\n",
    "import seaborn as sns\n",
    "import matplotlib.pyplot as plt\n",
    "\n",
    "cm_svc = confusion_matrix(y_test, y_pred)\n",
    "\n",
    "sns.heatmap(cm_svc.T, square=True, annot=True, fmt='d', cbar=False)\n",
    "plt.xlabel('true label')\n",
    "plt.ylabel('predicted label')"
   ]
  },
  {
   "cell_type": "code",
   "execution_count": 10,
   "metadata": {},
   "outputs": [
    {
     "name": "stdout",
     "output_type": "stream",
     "text": [
      "              precision    recall  f1-score   support\n",
      "\n",
      "           0       0.87      1.00      0.93        53\n",
      "           1       0.00      0.00      0.00         8\n",
      "\n",
      "    accuracy                           0.87        61\n",
      "   macro avg       0.43      0.50      0.46        61\n",
      "weighted avg       0.75      0.87      0.81        61\n",
      "\n"
     ]
    }
   ],
   "source": [
    "from sklearn.metrics import classification_report\n",
    "\n",
    "y_true, y_pred = y_test, better_svc_model.predict(X_test)\n",
    "print(classification_report(y_true, y_pred))"
   ]
  },
  {
   "cell_type": "code",
   "execution_count": 11,
   "metadata": {},
   "outputs": [
    {
     "name": "stdout",
     "output_type": "stream",
     "text": [
      "Feature: A Score: 0.08524\n",
      "Feature: C Score: 0.23743\n",
      "Feature: D Score: -0.03075\n",
      "Feature: E Score: 0.00511\n",
      "Feature: F Score: -0.18852\n",
      "Feature: G Score: -0.14529\n",
      "Feature: H Score: -0.11629\n",
      "Feature: I Score: -0.31303\n",
      "Feature: K Score: -0.05187\n",
      "Feature: L Score: 0.04117\n",
      "Feature: M Score: 0.09091\n",
      "Feature: N Score: -0.00985\n",
      "Feature: P Score: 0.06918\n",
      "Feature: Q Score: -0.23076\n",
      "Feature: R Score: 0.21517\n",
      "Feature: S Score: 0.25503\n",
      "Feature: T Score: -0.12755\n",
      "Feature: V Score: 0.07639\n",
      "Feature: W Score: 0.14398\n",
      "Feature: Y Score: 0.30521\n",
      "Feature: Molecular_weight Score: 0.01505\n",
      "Feature: Isoelectric_Point Score: 0.22533\n",
      "Feature: Aromaticity Score: 0.15362\n",
      "Feature: Helix Score: -0.20636\n",
      "Feature: Turn Score: 0.10697\n",
      "Feature: Sheet Score: 0.03888\n",
      "Feature: DNA_Size Score: 0.01802\n",
      "Feature: Prot_Size Score: 0.00987\n",
      "Feature: GC_Content_DNA Score: -0.09082\n",
      "Feature: AT_Content_DNA Score: -0.09123\n",
      "Feature: DNA_A Score: -0.00546\n",
      "Feature: DNA_C Score: -0.00269\n",
      "Feature: DNA_G Score: -0.00447\n",
      "Feature: DNA_T Score: -0.00597\n"
     ]
    }
   ],
   "source": [
    "from matplotlib import pyplot\n",
    "\n",
    "importance_svc = (better_svc_model.coef_).T\n",
    "feats = X.columns.tolist()\n",
    "# summarize feature importance\n",
    "for i,v in enumerate(importance_svc):\n",
    "\tprint('Feature:', feats[i], 'Score: %.5f' % (v))\n",
    "# print(importance_svc)\n",
    "# print(feats)"
   ]
  },
  {
   "cell_type": "code",
   "execution_count": 12,
   "metadata": {},
   "outputs": [
    {
     "data": {
      "text/plain": [
       "<matplotlib.axes._subplots.AxesSubplot at 0x239d7a4f580>"
      ]
     },
     "execution_count": 12,
     "metadata": {},
     "output_type": "execute_result"
    },
    {
     "data": {
      "image/png": "[encoded data removed]",
      "text/plain": [
       "<Figure size 1080x576 with 1 Axes>"
      ]
     },
     "metadata": {
      "needs_background": "light"
     },
     "output_type": "display_data"
    }
   ],
   "source": [
    "dic_features = dict(zip(feats, importance_svc))\n",
    "\n",
    "feat_imp = pd.DataFrame.from_dict(dic_features, orient='index', columns=['importance'])\n",
    "\n",
    "feat_imp.plot(kind='barh',figsize=(15, 8))"
   ]
  },
  {
   "cell_type": "markdown",
   "metadata": {},
   "source": [
    "# Gradient Boosting Classifier"
   ]
  },
  {
   "cell_type": "code",
   "execution_count": 2,
   "metadata": {},
   "outputs": [],
   "source": [
    "from sklearn.ensemble import GradientBoostingClassifier\n",
    "\n",
    "gbc_model = GradientBoostingClassifier()"
   ]
  },
  {
   "cell_type": "code",
   "execution_count": 3,
   "metadata": {},
   "outputs": [
    {
     "data": {
      "text/plain": [
       "RandomizedSearchCV(cv=5, estimator=GradientBoostingClassifier(),\n",
       "                   param_distributions={'learning_rate': <scipy.stats._distn_infrastructure.rv_frozen object at 0x000001F21471AB80>,\n",
       "                                        'max_depth': <scipy.stats._distn_infrastructure.rv_frozen object at 0x000001F214723100>,\n",
       "                                        'max_features': <scipy.stats._distn_infrastructure.rv_frozen object at 0x000001F21471AC10>,\n",
       "                                        'n_estimators': <scipy.stats._distn_infrastructure.rv_frozen object at 0x000001F21471A340>})"
      ]
     },
     "execution_count": 3,
     "metadata": {},
     "output_type": "execute_result"
    }
   ],
   "source": [
    "from sklearn.model_selection import RandomizedSearchCV, cross_validate\n",
    "from scipy.stats import uniform as sp_randFloat\n",
    "from scipy.stats import randint as sp_randInt\n",
    "from scipy.stats import loguniform\n",
    "\n",
    "# https://www.projectpro.io/recipes/find-optimal-parameters-using-randomizedsearchcv\n",
    "\n",
    "# parameters = {\"learning_rate\": sp_randFloat(),\n",
    "#                   \"subsample\"    : sp_randFloat(),\n",
    "#                   \"n_estimators\" : sp_randInt(100, 1000),\n",
    "#                   \"max_depth\"    : sp_randInt(4, 10)\n",
    "#                  }\n",
    "\n",
    "parameters = {\"learning_rate\": loguniform(1e-3,1e0),\n",
    "                  \"max_features\"    : loguniform(5e-1,1),\n",
    "                  \"n_estimators\" : sp_randInt(1e1, 1e3),\n",
    "                  \"max_depth\"    : sp_randInt(1e0, 2e1)\n",
    "                 }\n",
    "\n",
    "rand_search_gbc = RandomizedSearchCV(estimator=gbc_model, param_distributions = parameters, cv=5)\n",
    "rand_search_gbc.fit(X_train, y_train)\n",
    "\n",
    "# gridsearchcv estava a demorar muito tempo para terminar"
   ]
  },
  {
   "cell_type": "code",
   "execution_count": 4,
   "metadata": {},
   "outputs": [
    {
     "name": "stdout",
     "output_type": "stream",
     "text": [
      "rand_search_gbc.best_params_:  {'learning_rate': 0.001849770063643369, 'max_depth': 6, 'max_features': 0.5931785877547567, 'n_estimators': 205}\n"
     ]
    }
   ],
   "source": [
    "print('rand_search_gbc.best_params_: ',rand_search_gbc.best_params_)"
   ]
  },
  {
   "cell_type": "code",
   "execution_count": 5,
   "metadata": {},
   "outputs": [],
   "source": [
    "new_gbc_model = GradientBoostingClassifier(**rand_search_gbc.best_params_)"
   ]
  },
  {
   "cell_type": "code",
   "execution_count": 6,
   "metadata": {},
   "outputs": [
    {
     "name": "stdout",
     "output_type": "stream",
     "text": [
      "Métrica: test_accuracy\n",
      "Resultados de cada fold: [0.88888889 0.88888889 0.88888889 0.83333333 0.83333333]\n",
      "Média de todas as folds: 0.8666666666666666\n",
      "Desvio padrão: 0.027216552697590827\n",
      "Métrica: train_accuracy\n",
      "Resultados de cada fold: [0.86111111 0.86111111 0.86111111 0.875      0.875     ]\n",
      "Média de todas as folds: 0.8666666666666668\n",
      "Desvio padrão: 0.006804138174397693\n",
      "Métrica: test_precision\n",
      "Resultados de cada fold: [0. 0. 0. 0. 0.]\n",
      "Média de todas as folds: 0.0\n",
      "Desvio padrão: 0.0\n",
      "Métrica: train_precision\n",
      "Resultados de cada fold: [0. 0. 0. 0. 0.]\n",
      "Média de todas as folds: 0.0\n",
      "Desvio padrão: 0.0\n",
      "Métrica: test_recall\n",
      "Resultados de cada fold: [0. 0. 0. 0. 0.]\n",
      "Média de todas as folds: 0.0\n",
      "Desvio padrão: 0.0\n",
      "Métrica: train_recall\n",
      "Resultados de cada fold: [0. 0. 0. 0. 0.]\n",
      "Média de todas as folds: 0.0\n",
      "Desvio padrão: 0.0\n",
      "Métrica: test_f1\n",
      "Resultados de cada fold: [0. 0. 0. 0. 0.]\n",
      "Média de todas as folds: 0.0\n",
      "Desvio padrão: 0.0\n",
      "Métrica: train_f1\n",
      "Resultados de cada fold: [0. 0. 0. 0. 0.]\n",
      "Média de todas as folds: 0.0\n",
      "Desvio padrão: 0.0\n"
     ]
    }
   ],
   "source": [
    "from sklearn.model_selection import cross_validate\n",
    "\n",
    "scoring_metrics = ['accuracy', 'precision', 'recall', 'f1']\n",
    "\n",
    "cv_scores_gbc = cross_validate(new_gbc_model, X_train, y_train, cv=5, scoring=scoring_metrics, return_train_score=True)\n",
    "\n",
    "for key, value in cv_scores_gbc.items():\n",
    "    if key != \"fit_time\" and key != \"score_time\":\n",
    "        print(\"Métrica: %s\" % key)\n",
    "        print(\"Resultados de cada fold: %s\" % value) # resultados de cada fold\n",
    "        print(\"Média de todas as folds: %s\" % np.mean(value))\n",
    "        print(\"Desvio padrão: %s\" % np.std(value))"
   ]
  },
  {
   "cell_type": "code",
   "execution_count": 7,
   "metadata": {},
   "outputs": [],
   "source": [
    "better_gbc_model = new_gbc_model.fit(X_train, y_train)"
   ]
  },
  {
   "cell_type": "code",
   "execution_count": 8,
   "metadata": {},
   "outputs": [
    {
     "name": "stdout",
     "output_type": "stream",
     "text": [
      "Accuracy for Gradient Boosting Classifier on CV data:  0.8852459016393442\n",
      "Precision for Gradient Boosting Classifier on CV data:  0.0\n",
      "Recall for Gradient Boosting Classifier on CV data:  0.0\n"
     ]
    }
   ],
   "source": [
    "from sklearn.metrics import accuracy_score, precision_score, recall_score, f1_score\n",
    "\n",
    "y_pred = better_gbc_model.predict(X_test)\n",
    "print(\"Accuracy for Gradient Boosting Classifier on CV data: \",accuracy_score(y_test,y_pred))  \n",
    "print(\"Precision for Gradient Boosting Classifier on CV data: \",precision_score(y_test,y_pred))\n",
    "print(\"Recall for Gradient Boosting Classifier on CV data: \",recall_score(y_test,y_pred))"
   ]
  },
  {
   "cell_type": "code",
   "execution_count": 9,
   "metadata": {},
   "outputs": [
    {
     "data": {
      "text/plain": [
       "Text(91.68, 0.5, 'predicted label')"
      ]
     },
     "execution_count": 9,
     "metadata": {},
     "output_type": "execute_result"
    },
    {
     "data": {
      "image/png": "[encoded data removed]",
      "text/plain": [
       "<Figure size 432x288 with 1 Axes>"
      ]
     },
     "metadata": {
      "needs_background": "light"
     },
     "output_type": "display_data"
    }
   ],
   "source": [
    "from sklearn.metrics import confusion_matrix\n",
    "from sklearn.metrics import *\n",
    "import seaborn as sns\n",
    "import matplotlib.pyplot as plt\n",
    "\n",
    "cm_gbc = confusion_matrix(y_test, y_pred)\n",
    "\n",
    "sns.heatmap(cm_gbc.T, square=True, annot=True, fmt='d', cbar=False)\n",
    "plt.xlabel('true label')\n",
    "plt.ylabel('predicted label')"
   ]
  },
  {
   "cell_type": "code",
   "execution_count": 10,
   "metadata": {},
   "outputs": [
    {
     "name": "stdout",
     "output_type": "stream",
     "text": [
      "              precision    recall  f1-score   support\n",
      "\n",
      "           0       0.89      1.00      0.94        54\n",
      "           1       0.00      0.00      0.00         7\n",
      "\n",
      "    accuracy                           0.89        61\n",
      "   macro avg       0.44      0.50      0.47        61\n",
      "weighted avg       0.78      0.89      0.83        61\n",
      "\n"
     ]
    }
   ],
   "source": [
    "from sklearn.metrics import classification_report\n",
    "\n",
    "y_true, y_pred = y_test, better_gbc_model.predict(X_test)\n",
    "print(classification_report(y_true, y_pred))"
   ]
  },
  {
   "cell_type": "code",
   "execution_count": 11,
   "metadata": {},
   "outputs": [
    {
     "name": "stdout",
     "output_type": "stream",
     "text": [
      "Feature: A Score: 0.01389\n",
      "Feature: C Score: 0.00205\n",
      "Feature: D Score: 0.00136\n",
      "Feature: E Score: 0.01496\n",
      "Feature: F Score: 0.00760\n",
      "Feature: G Score: 0.00133\n",
      "Feature: H Score: 0.03272\n",
      "Feature: I Score: 0.04711\n",
      "Feature: K Score: 0.00235\n",
      "Feature: L Score: 0.00280\n",
      "Feature: M Score: 0.01844\n",
      "Feature: N Score: 0.01452\n",
      "Feature: P Score: 0.00765\n",
      "Feature: Q Score: 0.00134\n",
      "Feature: R Score: 0.02067\n",
      "Feature: S Score: 0.00216\n",
      "Feature: T Score: 0.06303\n",
      "Feature: V Score: 0.08594\n",
      "Feature: W Score: 0.00095\n",
      "Feature: Y Score: 0.01519\n",
      "Feature: Molecular_weight Score: 0.01743\n",
      "Feature: Isoelectric_Point Score: 0.01534\n",
      "Feature: Aromaticity Score: 0.00111\n",
      "Feature: Helix Score: 0.00182\n",
      "Feature: Turn Score: 0.07006\n",
      "Feature: Sheet Score: 0.04964\n",
      "Feature: DNA_Size Score: 0.03804\n",
      "Feature: Prot_Size Score: 0.01772\n",
      "Feature: GC_Content_DNA Score: 0.09527\n",
      "Feature: AT_Content_DNA Score: 0.09902\n",
      "Feature: DNA_A Score: 0.04502\n",
      "Feature: DNA_C Score: 0.10045\n",
      "Feature: DNA_G Score: 0.06676\n",
      "Feature: DNA_T Score: 0.02625\n"
     ]
    }
   ],
   "source": [
    "from matplotlib import pyplot\n",
    "\n",
    "importance_gbc = better_gbc_model.feature_importances_\n",
    "feats = X.columns.tolist()\n",
    "# summarize feature importance\n",
    "for i,v in enumerate(importance_gbc):\n",
    "\tprint('Feature:', feats[i], 'Score: %.5f' % (v))"
   ]
  },
  {
   "cell_type": "code",
   "execution_count": 12,
   "metadata": {},
   "outputs": [
    {
     "data": {
      "text/plain": [
       "<matplotlib.axes._subplots.AxesSubplot at 0x1f2154b1940>"
      ]
     },
     "execution_count": 12,
     "metadata": {},
     "output_type": "execute_result"
    },
    {
     "data": {
      "image/png": "[encoded data removed]",
      "text/plain": [
       "<Figure size 1080x576 with 1 Axes>"
      ]
     },
     "metadata": {
      "needs_background": "light"
     },
     "output_type": "display_data"
    }
   ],
   "source": [
    "dic_features = dict(zip(feats, importance_gbc))\n",
    "\n",
    "feat_imp = pd.DataFrame.from_dict(dic_features, orient='index', columns=['importance'])\n",
    "\n",
    "feat_imp.plot(kind='barh',figsize=(15, 8))"
   ]
  },
  {
   "cell_type": "markdown",
   "metadata": {},
   "source": [
    "# Logistic Regression"
   ]
  },
  {
   "cell_type": "code",
   "execution_count": 2,
   "metadata": {},
   "outputs": [],
   "source": [
    "from sklearn.linear_model import LogisticRegression\n",
    "\n",
    "lr_model = LogisticRegression()"
   ]
  },
  {
   "cell_type": "code",
   "execution_count": 3,
   "metadata": {},
   "outputs": [
    {
     "data": {
      "text/plain": [
       "RandomizedSearchCV(cv=5, estimator=LogisticRegression(),\n",
       "                   param_distributions={'C': [0.1, 1, 10, 100, 1000],\n",
       "                                        'fit_intercept': [True, False],\n",
       "                                        'penalty': ['l1', 'l2', 'elasticnet',\n",
       "                                                    'none'],\n",
       "                                        'solver': ['liblinear']})"
      ]
     },
     "execution_count": 3,
     "metadata": {},
     "output_type": "execute_result"
    }
   ],
   "source": [
    "from sklearn.model_selection import RandomizedSearchCV, cross_validate\n",
    "\n",
    "# For small datasets, ‘liblinear’ is a good choice, whereas ‘sag’ and ‘saga’ are faster for large ones;\n",
    "\n",
    "param = {\n",
    "    'penalty':['l1', 'l2', 'elasticnet', 'none'],\n",
    "    'solver':['liblinear'],\n",
    "    'C': [0.1,1, 10, 100, 1000],\n",
    "    'fit_intercept':[True, False],\n",
    "}\n",
    "\n",
    "rand_search_lr = RandomizedSearchCV(estimator=lr_model, param_distributions = param, cv=5)\n",
    "rand_search_lr.fit(X_train, y_train)"
   ]
  },
  {
   "cell_type": "code",
   "execution_count": 4,
   "metadata": {},
   "outputs": [
    {
     "name": "stdout",
     "output_type": "stream",
     "text": [
      "rand_search_lr.best_params_:  {'solver': 'liblinear', 'penalty': 'l1', 'fit_intercept': True, 'C': 10}\n"
     ]
    }
   ],
   "source": [
    "print('rand_search_lr.best_params_: ',rand_search_lr.best_params_)"
   ]
  },
  {
   "cell_type": "code",
   "execution_count": 5,
   "metadata": {},
   "outputs": [],
   "source": [
    "new_lr_model = LogisticRegression(**rand_search_lr.best_params_)"
   ]
  },
  {
   "cell_type": "code",
   "execution_count": 6,
   "metadata": {},
   "outputs": [
    {
     "name": "stdout",
     "output_type": "stream",
     "text": [
      "Métrica: test_accuracy\n",
      "Resultados de cada fold: [0.88888889 0.94444444 0.88888889 0.88888889 0.83333333]\n",
      "Média de todas as folds: 0.888888888888889\n",
      "Desvio padrão: 0.03513641844631531\n",
      "Métrica: train_accuracy\n",
      "Resultados de cada fold: [0.90277778 0.88888889 0.90277778 0.90277778 0.90277778]\n",
      "Média de todas as folds: 0.9\n",
      "Desvio padrão: 0.005555555555555581\n",
      "Métrica: test_precision\n",
      "Resultados de cada fold: [0. 1. 0. 0. 0.]\n",
      "Média de todas as folds: 0.2\n",
      "Desvio padrão: 0.4000000000000001\n",
      "Métrica: train_precision\n",
      "Resultados de cada fold: [1. 1. 1. 1. 1.]\n",
      "Média de todas as folds: 1.0\n",
      "Desvio padrão: 0.0\n",
      "Métrica: test_recall\n",
      "Resultados de cada fold: [0.  0.5 0.  0.  0. ]\n",
      "Média de todas as folds: 0.1\n",
      "Desvio padrão: 0.20000000000000004\n",
      "Métrica: train_recall\n",
      "Resultados de cada fold: [0.22222222 0.11111111 0.22222222 0.22222222 0.125     ]\n",
      "Média de todas as folds: 0.18055555555555555\n",
      "Desvio padrão: 0.051219691429404926\n",
      "Métrica: test_f1\n",
      "Resultados de cada fold: [0.         0.66666667 0.         0.         0.        ]\n",
      "Média de todas as folds: 0.13333333333333333\n",
      "Desvio padrão: 0.26666666666666666\n",
      "Métrica: train_f1\n",
      "Resultados de cada fold: [0.36363636 0.2        0.36363636 0.36363636 0.22222222]\n",
      "Média de todas as folds: 0.3026262626262626\n",
      "Desvio padrão: 0.07505152466101854\n"
     ]
    }
   ],
   "source": [
    "from sklearn.model_selection import cross_validate\n",
    "\n",
    "scoring_metrics = ['accuracy', 'precision', 'recall', 'f1']\n",
    "\n",
    "cv_scores_lr = cross_validate(new_lr_model, X_train, y_train, cv=5, scoring=scoring_metrics, return_train_score=True)\n",
    "\n",
    "for key, value in cv_scores_lr.items():\n",
    "    if key != \"fit_time\" and key != \"score_time\":\n",
    "        print(\"Métrica: %s\" % key)\n",
    "        print(\"Resultados de cada fold: %s\" % value) # resultados de cada fold\n",
    "        print(\"Média de todas as folds: %s\" % np.mean(value))\n",
    "        print(\"Desvio padrão: %s\" % np.std(value))"
   ]
  },
  {
   "cell_type": "code",
   "execution_count": 7,
   "metadata": {},
   "outputs": [],
   "source": [
    "better_lr_model = new_lr_model.fit(X_train, y_train)"
   ]
  },
  {
   "cell_type": "code",
   "execution_count": 8,
   "metadata": {},
   "outputs": [
    {
     "name": "stdout",
     "output_type": "stream",
     "text": [
      "Accuracy for Logistic Regression on CV data:  0.8688524590163934\n",
      "Precision for Logistic Regression on CV data:  0.0\n",
      "Recall for Logistic Regression on CV data:  0.0\n"
     ]
    }
   ],
   "source": [
    "from sklearn.metrics import accuracy_score, precision_score, recall_score, f1_score\n",
    "\n",
    "y_pred = better_lr_model.predict(X_test)\n",
    "print(\"Accuracy for Logistic Regression on CV data: \",accuracy_score(y_test,y_pred))  \n",
    "print(\"Precision for Logistic Regression on CV data: \",precision_score(y_test,y_pred))\n",
    "print(\"Recall for Logistic Regression on CV data: \",recall_score(y_test,y_pred))"
   ]
  },
  {
   "cell_type": "code",
   "execution_count": 9,
   "metadata": {},
   "outputs": [
    {
     "data": {
      "text/plain": [
       "Text(91.68, 0.5, 'predicted label')"
      ]
     },
     "execution_count": 9,
     "metadata": {},
     "output_type": "execute_result"
    },
    {
     "data": {
      "image/png": "[encoded data removed]",
      "text/plain": [
       "<Figure size 432x288 with 1 Axes>"
      ]
     },
     "metadata": {
      "needs_background": "light"
     },
     "output_type": "display_data"
    }
   ],
   "source": [
    "from sklearn.metrics import confusion_matrix\n",
    "from sklearn.metrics import *\n",
    "import seaborn as sns\n",
    "import matplotlib.pyplot as plt\n",
    "\n",
    "cm_lr = confusion_matrix(y_test, y_pred)\n",
    "\n",
    "sns.heatmap(cm_lr.T, square=True, annot=True, fmt='d', cbar=False)\n",
    "plt.xlabel('true label')\n",
    "plt.ylabel('predicted label')"
   ]
  },
  {
   "cell_type": "code",
   "execution_count": 10,
   "metadata": {},
   "outputs": [
    {
     "name": "stdout",
     "output_type": "stream",
     "text": [
      "              precision    recall  f1-score   support\n",
      "\n",
      "           0       0.87      1.00      0.93        53\n",
      "           1       0.00      0.00      0.00         8\n",
      "\n",
      "    accuracy                           0.87        61\n",
      "   macro avg       0.43      0.50      0.46        61\n",
      "weighted avg       0.75      0.87      0.81        61\n",
      "\n"
     ]
    }
   ],
   "source": [
    "from sklearn.metrics import classification_report\n",
    "\n",
    "y_true, y_pred = y_test, better_lr_model.predict(X_test)\n",
    "print(classification_report(y_true, y_pred))"
   ]
  },
  {
   "cell_type": "code",
   "execution_count": 11,
   "metadata": {},
   "outputs": [
    {
     "name": "stdout",
     "output_type": "stream",
     "text": [
      "Feature: A Score: 0.12847\n",
      "Feature: C Score: 0.00000\n",
      "Feature: D Score: -0.07040\n",
      "Feature: E Score: 0.00000\n",
      "Feature: F Score: 0.00000\n",
      "Feature: G Score: -0.07175\n",
      "Feature: H Score: 0.00000\n",
      "Feature: I Score: -3.45167\n",
      "Feature: K Score: 0.00000\n",
      "Feature: L Score: 0.06021\n",
      "Feature: M Score: 0.00000\n",
      "Feature: N Score: 0.00000\n",
      "Feature: P Score: 0.00000\n",
      "Feature: Q Score: -0.56955\n",
      "Feature: R Score: 0.26871\n",
      "Feature: S Score: 0.42947\n",
      "Feature: T Score: 0.20912\n",
      "Feature: V Score: 0.00000\n",
      "Feature: W Score: 0.00000\n",
      "Feature: Y Score: 1.76430\n",
      "Feature: Molecular_weight Score: 0.00000\n",
      "Feature: Isoelectric_Point Score: 0.69995\n",
      "Feature: Aromaticity Score: 0.00000\n",
      "Feature: Helix Score: 0.00000\n",
      "Feature: Turn Score: 0.00000\n",
      "Feature: Sheet Score: 0.00000\n",
      "Feature: DNA_Size Score: 0.00000\n",
      "Feature: Prot_Size Score: 0.00000\n",
      "Feature: GC_Content_DNA Score: -1.67366\n",
      "Feature: AT_Content_DNA Score: 0.00000\n",
      "Feature: DNA_A Score: -2.39042\n",
      "Feature: DNA_C Score: 2.52425\n",
      "Feature: DNA_G Score: 0.00000\n",
      "Feature: DNA_T Score: 0.00000\n"
     ]
    }
   ],
   "source": [
    "from matplotlib import pyplot\n",
    "\n",
    "importance_lr = (better_lr_model.coef_).T\n",
    "feats = X.columns.tolist()\n",
    "# summarize feature importance\n",
    "for i,v in enumerate(importance_lr):\n",
    "\tprint('Feature:', feats[i], 'Score: %.5f' % (v))"
   ]
  },
  {
   "cell_type": "code",
   "execution_count": 12,
   "metadata": {},
   "outputs": [
    {
     "data": {
      "text/plain": [
       "<matplotlib.axes._subplots.AxesSubplot at 0x178b99820d0>"
      ]
     },
     "execution_count": 12,
     "metadata": {},
     "output_type": "execute_result"
    },
    {
     "data": {
      "image/png": "[encoded data removed]",
      "text/plain": [
       "<Figure size 1080x576 with 1 Axes>"
      ]
     },
     "metadata": {
      "needs_background": "light"
     },
     "output_type": "display_data"
    }
   ],
   "source": [
    "dic_features = dict(zip(feats, importance_lr))\n",
    "\n",
    "feat_imp = pd.DataFrame.from_dict(dic_features, orient='index', columns=['importance'])\n",
    "\n",
    "feat_imp.plot(kind='barh',figsize=(15, 8))"
   ]
  },
  {
   "cell_type": "markdown",
   "metadata": {},
   "source": [
    "# Artificial Neural Network (MLP)"
   ]
  },
  {
   "cell_type": "code",
   "execution_count": 2,
   "metadata": {},
   "outputs": [],
   "source": [
    "from sklearn.neural_network import MLPClassifier\n",
    "mlp_model=MLPClassifier()"
   ]
  },
  {
   "cell_type": "code",
   "execution_count": 3,
   "metadata": {},
   "outputs": [
    {
     "data": {
      "text/plain": [
       "RandomizedSearchCV(cv=5, estimator=MLPClassifier(),\n",
       "                   param_distributions={'alpha': <scipy.stats._distn_infrastructure.rv_frozen object at 0x00000120FC62A130>,\n",
       "                                        'max_iter': <scipy.stats._distn_infrastructure.rv_frozen object at 0x00000120FC625B20>,\n",
       "                                        'solver': ['lbfgs', 'sgd', 'adam']})"
      ]
     },
     "execution_count": 3,
     "metadata": {},
     "output_type": "execute_result"
    }
   ],
   "source": [
    "from sklearn.model_selection import RandomizedSearchCV, cross_validate\n",
    "from scipy.stats import uniform as sp_randFloat\n",
    "from scipy.stats import randint as sp_randInt\n",
    "\n",
    "# https://www.projectpro.io/recipes/find-optimal-parameters-using-randomizedsearchcv\n",
    "\n",
    "parameters = { \"alpha\"    : sp_randFloat(),\n",
    "                'solver':['lbfgs', 'sgd', 'adam'],\n",
    "                  \"max_iter\" : sp_randInt(100,500)\n",
    "                 }\n",
    "\n",
    "rand_search_mlp = RandomizedSearchCV(estimator=mlp_model, param_distributions = parameters, cv=5)\n",
    "rand_search_mlp.fit(X_train, y_train)"
   ]
  },
  {
   "cell_type": "code",
   "execution_count": 4,
   "metadata": {},
   "outputs": [
    {
     "name": "stdout",
     "output_type": "stream",
     "text": [
      "rand_search_mlp.best_params_:  {'alpha': 0.9823283540738778, 'max_iter': 491, 'solver': 'sgd'}\n"
     ]
    }
   ],
   "source": [
    "print('rand_search_mlp.best_params_: ',rand_search_mlp.best_params_)"
   ]
  },
  {
   "cell_type": "code",
   "execution_count": 5,
   "metadata": {},
   "outputs": [],
   "source": [
    "new_mlp_model = MLPClassifier(**rand_search_mlp.best_params_)"
   ]
  },
  {
   "cell_type": "code",
   "execution_count": 6,
   "metadata": {},
   "outputs": [
    {
     "name": "stdout",
     "output_type": "stream",
     "text": [
      "Métrica: test_accuracy\n",
      "Resultados de cada fold: [0.88888889 0.88888889 0.88888889 0.88888889 0.94444444]\n",
      "Média de todas as folds: 0.9\n",
      "Desvio padrão: 0.022222222222222233\n",
      "Métrica: train_accuracy\n",
      "Resultados de cada fold: [0.90277778 0.91666667 0.93055556 0.93055556 0.91666667]\n",
      "Média de todas as folds: 0.9194444444444445\n",
      "Desvio padrão: 0.010393492741038736\n",
      "Métrica: test_precision\n",
      "Resultados de cada fold: [0. 0. 0. 0. 0.]\n",
      "Média de todas as folds: 0.0\n",
      "Desvio padrão: 0.0\n",
      "Métrica: train_precision\n",
      "Resultados de cada fold: [0. 1. 1. 1. 1.]\n",
      "Média de todas as folds: 0.8\n",
      "Desvio padrão: 0.4000000000000001\n",
      "Métrica: test_recall\n",
      "Resultados de cada fold: [0. 0. 0. 0. 0.]\n",
      "Média de todas as folds: 0.0\n",
      "Desvio padrão: 0.0\n",
      "Métrica: train_recall\n",
      "Resultados de cada fold: [0.         0.14285714 0.28571429 0.28571429 0.25      ]\n",
      "Média de todas as folds: 0.19285714285714284\n",
      "Desvio padrão: 0.1097306535409801\n",
      "Métrica: test_f1\n",
      "Resultados de cada fold: [0. 0. 0. 0. 0.]\n",
      "Média de todas as folds: 0.0\n",
      "Desvio padrão: 0.0\n",
      "Métrica: train_f1\n",
      "Resultados de cada fold: [0.         0.25       0.44444444 0.44444444 0.4       ]\n",
      "Média de todas as folds: 0.30777777777777776\n",
      "Desvio padrão: 0.1696619733033457\n"
     ]
    }
   ],
   "source": [
    "from sklearn.model_selection import cross_validate\n",
    "\n",
    "scoring_metrics = ['accuracy', 'precision', 'recall', 'f1']\n",
    "\n",
    "cv_scores_mlp = cross_validate(new_mlp_model, X_train, y_train, cv=5, scoring=scoring_metrics, return_train_score=True)\n",
    "\n",
    "for key, value in cv_scores_mlp.items():\n",
    "    if key != \"fit_time\" and key != \"score_time\":\n",
    "        print(\"Métrica: %s\" % key)\n",
    "        print(\"Resultados de cada fold: %s\" % value) # resultados de cada fold\n",
    "        print(\"Média de todas as folds: %s\" % np.mean(value))\n",
    "        print(\"Desvio padrão: %s\" % np.std(value))"
   ]
  },
  {
   "cell_type": "code",
   "execution_count": 7,
   "metadata": {},
   "outputs": [],
   "source": [
    "better_mlp_model = new_mlp_model.fit(X_train, y_train)"
   ]
  },
  {
   "cell_type": "code",
   "execution_count": 8,
   "metadata": {},
   "outputs": [
    {
     "name": "stdout",
     "output_type": "stream",
     "text": [
      "Accuracy for Artificial Neural Network on CV data:  0.8360655737704918\n",
      "Precision for Artificial Neural Network on CV data:  0.0\n",
      "Recall for Artificial Neural Network on CV data:  0.0\n"
     ]
    }
   ],
   "source": [
    "from sklearn.metrics import accuracy_score, precision_score, recall_score, f1_score\n",
    "\n",
    "y_pred = better_mlp_model.predict(X_test)\n",
    "print(\"Accuracy for Artificial Neural Network on CV data: \",accuracy_score(y_test,y_pred))  \n",
    "print(\"Precision for Artificial Neural Network on CV data: \",precision_score(y_test,y_pred))\n",
    "print(\"Recall for Artificial Neural Network on CV data: \",recall_score(y_test,y_pred))"
   ]
  },
  {
   "cell_type": "code",
   "execution_count": 9,
   "metadata": {},
   "outputs": [
    {
     "name": "stdout",
     "output_type": "stream",
     "text": [
      "[{'accuracy': 0.8360655737704918, 'precision': 0.0, 'recall': 0.0}]\n"
     ]
    }
   ],
   "source": [
    "import csv\n",
    "metrics_names = ['accuracy', 'precision', 'recall']\n",
    "\n",
    "dict_MLP=[{'accuracy':accuracy_score(y_test,y_pred),'precision':precision_score(y_test,y_pred),'recall':recall_score(y_test,y_pred)}]\n",
    "\n",
    "print(dict_MLP)\n",
    "\n",
    "with open('MLP_metrics.csv', 'w') as csvfile:\n",
    "    writer = csv.DictWriter(csvfile, fieldnames = metrics_names)\n",
    "    writer.writeheader()\n",
    "    writer.writerows(dict_MLP)\n",
    "    "
   ]
  },
  {
   "cell_type": "code",
   "execution_count": 10,
   "metadata": {},
   "outputs": [
    {
     "data": {
      "text/plain": [
       "Text(91.68, 0.5, 'predicted label')"
      ]
     },
     "execution_count": 10,
     "metadata": {},
     "output_type": "execute_result"
    },
    {
     "data": {
      "image/png": "[encoded data removed]",
      "text/plain": [
       "<Figure size 432x288 with 1 Axes>"
      ]
     },
     "metadata": {
      "needs_background": "light"
     },
     "output_type": "display_data"
    }
   ],
   "source": [
    "from sklearn.metrics import confusion_matrix\n",
    "from sklearn.metrics import *\n",
    "import seaborn as sns\n",
    "import matplotlib.pyplot as plt\n",
    "\n",
    "cm_mlp = confusion_matrix(y_test, y_pred)\n",
    "\n",
    "sns.heatmap(cm_mlp.T, square=True, annot=True, fmt='d', cbar=False)\n",
    "plt.xlabel('true label')\n",
    "plt.ylabel('predicted label')"
   ]
  },
  {
   "cell_type": "code",
   "execution_count": 11,
   "metadata": {},
   "outputs": [
    {
     "name": "stdout",
     "output_type": "stream",
     "text": [
      "              precision    recall  f1-score   support\n",
      "\n",
      "           0       0.84      1.00      0.91        51\n",
      "           1       0.00      0.00      0.00        10\n",
      "\n",
      "    accuracy                           0.84        61\n",
      "   macro avg       0.42      0.50      0.46        61\n",
      "weighted avg       0.70      0.84      0.76        61\n",
      "\n"
     ]
    }
   ],
   "source": [
    "from sklearn.metrics import classification_report\n",
    "\n",
    "y_true, y_pred = y_test, better_mlp_model.predict(X_test)\n",
    "print(classification_report(y_true, y_pred))"
   ]
  }
 ],
 "metadata": {
  "interpreter": {
   "hash": "37134ace218921b74af13dd92c56fdadfb15c5b94d65c3fac1e4c7a849f19ee9"
  },
  "kernelspec": {
   "display_name": "Python 3.8.8 ('base')",
   "language": "python",
   "name": "python3"
  },
  "language_info": {
   "codemirror_mode": {
    "name": "ipython",
    "version": 3
   },
   "file_extension": ".py",
   "mimetype": "text/x-python",
   "name": "python",
   "nbconvert_exporter": "python",
   "pygments_lexer": "ipython3",
   "version": "3.8.8"
  },
  "orig_nbformat": 4
 },
 "nbformat": 4,
 "nbformat_minor": 2
}

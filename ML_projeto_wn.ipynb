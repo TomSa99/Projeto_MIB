{
 "cells": [
  {
   "cell_type": "markdown",
   "metadata": {},
   "source": [
    "# With Normalization"
   ]
  },
  {
   "cell_type": "code",
   "execution_count": 1,
   "metadata": {},
   "outputs": [],
   "source": [
    "import pandas as pd\n",
    "import numpy as np\n",
    "\n",
    "import warnings \n",
    "warnings.filterwarnings('ignore')\n"
   ]
  },
  {
   "cell_type": "code",
   "execution_count": 2,
   "metadata": {},
   "outputs": [],
   "source": [
    "full_ds=pd.read_excel('full_ds_new.xlsx')"
   ]
  },
  {
   "cell_type": "code",
   "execution_count": 3,
   "metadata": {},
   "outputs": [],
   "source": [
    "full_ds=full_ds.set_index('Phage_KL')"
   ]
  },
  {
   "cell_type": "code",
   "execution_count": 4,
   "metadata": {},
   "outputs": [
    {
     "data": {
      "text/html": [
       "<div>\n",
       "<style scoped>\n",
       "    .dataframe tbody tr th:only-of-type {\n",
       "        vertical-align: middle;\n",
       "    }\n",
       "\n",
       "    .dataframe tbody tr th {\n",
       "        vertical-align: top;\n",
       "    }\n",
       "\n",
       "    .dataframe thead th {\n",
       "        text-align: right;\n",
       "    }\n",
       "</style>\n",
       "<table border=\"1\" class=\"dataframe\">\n",
       "  <thead>\n",
       "    <tr style=\"text-align: right;\">\n",
       "      <th></th>\n",
       "      <th>POSITIVE</th>\n",
       "      <th>A</th>\n",
       "      <th>C</th>\n",
       "      <th>D</th>\n",
       "      <th>E</th>\n",
       "      <th>F</th>\n",
       "      <th>G</th>\n",
       "      <th>H</th>\n",
       "      <th>I</th>\n",
       "      <th>K</th>\n",
       "      <th>...</th>\n",
       "      <th>Turn</th>\n",
       "      <th>Sheet</th>\n",
       "      <th>DNA_Size</th>\n",
       "      <th>Prot_Size</th>\n",
       "      <th>GC_Content_DNA</th>\n",
       "      <th>AT_Content_DNA</th>\n",
       "      <th>DNA_A</th>\n",
       "      <th>DNA_C</th>\n",
       "      <th>DNA_G</th>\n",
       "      <th>DNA_T</th>\n",
       "    </tr>\n",
       "    <tr>\n",
       "      <th>Phage_KL</th>\n",
       "      <th></th>\n",
       "      <th></th>\n",
       "      <th></th>\n",
       "      <th></th>\n",
       "      <th></th>\n",
       "      <th></th>\n",
       "      <th></th>\n",
       "      <th></th>\n",
       "      <th></th>\n",
       "      <th></th>\n",
       "      <th></th>\n",
       "      <th></th>\n",
       "      <th></th>\n",
       "      <th></th>\n",
       "      <th></th>\n",
       "      <th></th>\n",
       "      <th></th>\n",
       "      <th></th>\n",
       "      <th></th>\n",
       "      <th></th>\n",
       "      <th></th>\n",
       "    </tr>\n",
       "  </thead>\n",
       "  <tbody>\n",
       "    <tr>\n",
       "      <th>ASN73504-KL1</th>\n",
       "      <td>YES</td>\n",
       "      <td>75</td>\n",
       "      <td>11</td>\n",
       "      <td>39</td>\n",
       "      <td>31</td>\n",
       "      <td>39</td>\n",
       "      <td>63</td>\n",
       "      <td>11</td>\n",
       "      <td>44</td>\n",
       "      <td>29</td>\n",
       "      <td>...</td>\n",
       "      <td>0.256342</td>\n",
       "      <td>0.230975</td>\n",
       "      <td>22010</td>\n",
       "      <td>749</td>\n",
       "      <td>34.375284</td>\n",
       "      <td>65.624716</td>\n",
       "      <td>6921</td>\n",
       "      <td>3379</td>\n",
       "      <td>4187</td>\n",
       "      <td>7523</td>\n",
       "    </tr>\n",
       "    <tr>\n",
       "      <th>YP_009103257-KL1</th>\n",
       "      <td>YES</td>\n",
       "      <td>66</td>\n",
       "      <td>11</td>\n",
       "      <td>43</td>\n",
       "      <td>29</td>\n",
       "      <td>34</td>\n",
       "      <td>60</td>\n",
       "      <td>16</td>\n",
       "      <td>38</td>\n",
       "      <td>24</td>\n",
       "      <td>...</td>\n",
       "      <td>0.263812</td>\n",
       "      <td>0.215470</td>\n",
       "      <td>22010</td>\n",
       "      <td>724</td>\n",
       "      <td>34.375284</td>\n",
       "      <td>65.624716</td>\n",
       "      <td>6921</td>\n",
       "      <td>3379</td>\n",
       "      <td>4187</td>\n",
       "      <td>7523</td>\n",
       "    </tr>\n",
       "    <tr>\n",
       "      <th>ASN73401-KL2</th>\n",
       "      <td>YES</td>\n",
       "      <td>57</td>\n",
       "      <td>10</td>\n",
       "      <td>42</td>\n",
       "      <td>29</td>\n",
       "      <td>32</td>\n",
       "      <td>65</td>\n",
       "      <td>12</td>\n",
       "      <td>45</td>\n",
       "      <td>33</td>\n",
       "      <td>...</td>\n",
       "      <td>0.268956</td>\n",
       "      <td>0.197425</td>\n",
       "      <td>25308</td>\n",
       "      <td>699</td>\n",
       "      <td>33.791686</td>\n",
       "      <td>66.208314</td>\n",
       "      <td>8160</td>\n",
       "      <td>3815</td>\n",
       "      <td>4737</td>\n",
       "      <td>8596</td>\n",
       "    </tr>\n",
       "    <tr>\n",
       "      <th>AZU99242-KL2</th>\n",
       "      <td>YES</td>\n",
       "      <td>79</td>\n",
       "      <td>8</td>\n",
       "      <td>41</td>\n",
       "      <td>28</td>\n",
       "      <td>38</td>\n",
       "      <td>56</td>\n",
       "      <td>6</td>\n",
       "      <td>39</td>\n",
       "      <td>26</td>\n",
       "      <td>...</td>\n",
       "      <td>0.242424</td>\n",
       "      <td>0.216450</td>\n",
       "      <td>25308</td>\n",
       "      <td>693</td>\n",
       "      <td>33.791686</td>\n",
       "      <td>66.208314</td>\n",
       "      <td>8160</td>\n",
       "      <td>3815</td>\n",
       "      <td>4737</td>\n",
       "      <td>8596</td>\n",
       "    </tr>\n",
       "    <tr>\n",
       "      <th>YP_009288671-KL2</th>\n",
       "      <td>YES</td>\n",
       "      <td>54</td>\n",
       "      <td>10</td>\n",
       "      <td>43</td>\n",
       "      <td>27</td>\n",
       "      <td>33</td>\n",
       "      <td>65</td>\n",
       "      <td>13</td>\n",
       "      <td>44</td>\n",
       "      <td>32</td>\n",
       "      <td>...</td>\n",
       "      <td>0.266094</td>\n",
       "      <td>0.194564</td>\n",
       "      <td>25308</td>\n",
       "      <td>699</td>\n",
       "      <td>33.791686</td>\n",
       "      <td>66.208314</td>\n",
       "      <td>8160</td>\n",
       "      <td>3815</td>\n",
       "      <td>4737</td>\n",
       "      <td>8596</td>\n",
       "    </tr>\n",
       "    <tr>\n",
       "      <th>...</th>\n",
       "      <td>...</td>\n",
       "      <td>...</td>\n",
       "      <td>...</td>\n",
       "      <td>...</td>\n",
       "      <td>...</td>\n",
       "      <td>...</td>\n",
       "      <td>...</td>\n",
       "      <td>...</td>\n",
       "      <td>...</td>\n",
       "      <td>...</td>\n",
       "      <td>...</td>\n",
       "      <td>...</td>\n",
       "      <td>...</td>\n",
       "      <td>...</td>\n",
       "      <td>...</td>\n",
       "      <td>...</td>\n",
       "      <td>...</td>\n",
       "      <td>...</td>\n",
       "      <td>...</td>\n",
       "      <td>...</td>\n",
       "      <td>...</td>\n",
       "    </tr>\n",
       "    <tr>\n",
       "      <th>AZU99395-KL116</th>\n",
       "      <td>NO</td>\n",
       "      <td>48</td>\n",
       "      <td>7</td>\n",
       "      <td>44</td>\n",
       "      <td>30</td>\n",
       "      <td>20</td>\n",
       "      <td>52</td>\n",
       "      <td>12</td>\n",
       "      <td>50</td>\n",
       "      <td>33</td>\n",
       "      <td>...</td>\n",
       "      <td>0.240413</td>\n",
       "      <td>0.202065</td>\n",
       "      <td>28147</td>\n",
       "      <td>678</td>\n",
       "      <td>34.788787</td>\n",
       "      <td>65.204107</td>\n",
       "      <td>8916</td>\n",
       "      <td>4316</td>\n",
       "      <td>5476</td>\n",
       "      <td>9437</td>\n",
       "    </tr>\n",
       "    <tr>\n",
       "      <th>AZU99445-KL116</th>\n",
       "      <td>NO</td>\n",
       "      <td>67</td>\n",
       "      <td>11</td>\n",
       "      <td>48</td>\n",
       "      <td>38</td>\n",
       "      <td>36</td>\n",
       "      <td>64</td>\n",
       "      <td>16</td>\n",
       "      <td>57</td>\n",
       "      <td>30</td>\n",
       "      <td>...</td>\n",
       "      <td>0.261557</td>\n",
       "      <td>0.198297</td>\n",
       "      <td>28147</td>\n",
       "      <td>822</td>\n",
       "      <td>34.788787</td>\n",
       "      <td>65.204107</td>\n",
       "      <td>8916</td>\n",
       "      <td>4316</td>\n",
       "      <td>5476</td>\n",
       "      <td>9437</td>\n",
       "    </tr>\n",
       "    <tr>\n",
       "      <th>QGK90444-KL116</th>\n",
       "      <td>NO</td>\n",
       "      <td>57</td>\n",
       "      <td>11</td>\n",
       "      <td>43</td>\n",
       "      <td>32</td>\n",
       "      <td>37</td>\n",
       "      <td>64</td>\n",
       "      <td>9</td>\n",
       "      <td>50</td>\n",
       "      <td>30</td>\n",
       "      <td>...</td>\n",
       "      <td>0.253989</td>\n",
       "      <td>0.219415</td>\n",
       "      <td>28147</td>\n",
       "      <td>752</td>\n",
       "      <td>34.788787</td>\n",
       "      <td>65.204107</td>\n",
       "      <td>8916</td>\n",
       "      <td>4316</td>\n",
       "      <td>5476</td>\n",
       "      <td>9437</td>\n",
       "    </tr>\n",
       "    <tr>\n",
       "      <th>QVW53860-KL116</th>\n",
       "      <td>NO</td>\n",
       "      <td>43</td>\n",
       "      <td>9</td>\n",
       "      <td>55</td>\n",
       "      <td>36</td>\n",
       "      <td>33</td>\n",
       "      <td>49</td>\n",
       "      <td>17</td>\n",
       "      <td>73</td>\n",
       "      <td>46</td>\n",
       "      <td>...</td>\n",
       "      <td>0.303100</td>\n",
       "      <td>0.181401</td>\n",
       "      <td>28147</td>\n",
       "      <td>871</td>\n",
       "      <td>34.788787</td>\n",
       "      <td>65.204107</td>\n",
       "      <td>8916</td>\n",
       "      <td>4316</td>\n",
       "      <td>5476</td>\n",
       "      <td>9437</td>\n",
       "    </tr>\n",
       "    <tr>\n",
       "      <th>QGK90498-KL116</th>\n",
       "      <td>NO</td>\n",
       "      <td>57</td>\n",
       "      <td>12</td>\n",
       "      <td>36</td>\n",
       "      <td>31</td>\n",
       "      <td>33</td>\n",
       "      <td>68</td>\n",
       "      <td>21</td>\n",
       "      <td>49</td>\n",
       "      <td>22</td>\n",
       "      <td>...</td>\n",
       "      <td>0.275000</td>\n",
       "      <td>0.212500</td>\n",
       "      <td>28147</td>\n",
       "      <td>720</td>\n",
       "      <td>34.788787</td>\n",
       "      <td>65.204107</td>\n",
       "      <td>8916</td>\n",
       "      <td>4316</td>\n",
       "      <td>5476</td>\n",
       "      <td>9437</td>\n",
       "    </tr>\n",
       "  </tbody>\n",
       "</table>\n",
       "<p>151 rows × 35 columns</p>\n",
       "</div>"
      ],
      "text/plain": [
       "                 POSITIVE   A   C   D   E   F   G   H   I   K  ...      Turn  \\\n",
       "Phage_KL                                                       ...             \n",
       "ASN73504-KL1          YES  75  11  39  31  39  63  11  44  29  ...  0.256342   \n",
       "YP_009103257-KL1      YES  66  11  43  29  34  60  16  38  24  ...  0.263812   \n",
       "ASN73401-KL2          YES  57  10  42  29  32  65  12  45  33  ...  0.268956   \n",
       "AZU99242-KL2          YES  79   8  41  28  38  56   6  39  26  ...  0.242424   \n",
       "YP_009288671-KL2      YES  54  10  43  27  33  65  13  44  32  ...  0.266094   \n",
       "...                   ...  ..  ..  ..  ..  ..  ..  ..  ..  ..  ...       ...   \n",
       "AZU99395-KL116         NO  48   7  44  30  20  52  12  50  33  ...  0.240413   \n",
       "AZU99445-KL116         NO  67  11  48  38  36  64  16  57  30  ...  0.261557   \n",
       "QGK90444-KL116         NO  57  11  43  32  37  64   9  50  30  ...  0.253989   \n",
       "QVW53860-KL116         NO  43   9  55  36  33  49  17  73  46  ...  0.303100   \n",
       "QGK90498-KL116         NO  57  12  36  31  33  68  21  49  22  ...  0.275000   \n",
       "\n",
       "                     Sheet  DNA_Size  Prot_Size  GC_Content_DNA  \\\n",
       "Phage_KL                                                          \n",
       "ASN73504-KL1      0.230975     22010        749       34.375284   \n",
       "YP_009103257-KL1  0.215470     22010        724       34.375284   \n",
       "ASN73401-KL2      0.197425     25308        699       33.791686   \n",
       "AZU99242-KL2      0.216450     25308        693       33.791686   \n",
       "YP_009288671-KL2  0.194564     25308        699       33.791686   \n",
       "...                    ...       ...        ...             ...   \n",
       "AZU99395-KL116    0.202065     28147        678       34.788787   \n",
       "AZU99445-KL116    0.198297     28147        822       34.788787   \n",
       "QGK90444-KL116    0.219415     28147        752       34.788787   \n",
       "QVW53860-KL116    0.181401     28147        871       34.788787   \n",
       "QGK90498-KL116    0.212500     28147        720       34.788787   \n",
       "\n",
       "                  AT_Content_DNA  DNA_A  DNA_C  DNA_G  DNA_T  \n",
       "Phage_KL                                                      \n",
       "ASN73504-KL1           65.624716   6921   3379   4187   7523  \n",
       "YP_009103257-KL1       65.624716   6921   3379   4187   7523  \n",
       "ASN73401-KL2           66.208314   8160   3815   4737   8596  \n",
       "AZU99242-KL2           66.208314   8160   3815   4737   8596  \n",
       "YP_009288671-KL2       66.208314   8160   3815   4737   8596  \n",
       "...                          ...    ...    ...    ...    ...  \n",
       "AZU99395-KL116         65.204107   8916   4316   5476   9437  \n",
       "AZU99445-KL116         65.204107   8916   4316   5476   9437  \n",
       "QGK90444-KL116         65.204107   8916   4316   5476   9437  \n",
       "QVW53860-KL116         65.204107   8916   4316   5476   9437  \n",
       "QGK90498-KL116         65.204107   8916   4316   5476   9437  \n",
       "\n",
       "[151 rows x 35 columns]"
      ]
     },
     "execution_count": 4,
     "metadata": {},
     "output_type": "execute_result"
    }
   ],
   "source": [
    "full_ds"
   ]
  },
  {
   "cell_type": "code",
   "execution_count": 4,
   "metadata": {},
   "outputs": [],
   "source": [
    "y = full_ds['POSITIVE']\n",
    "X = full_ds.drop(['POSITIVE'], axis=1)"
   ]
  },
  {
   "cell_type": "code",
   "execution_count": 5,
   "metadata": {},
   "outputs": [
    {
     "data": {
      "text/plain": [
       "Phage_KL\n",
       "ASN73504-KL1        YES\n",
       "YP_009103257-KL1    YES\n",
       "ASN73401-KL2        YES\n",
       "AZU99242-KL2        YES\n",
       "YP_009288671-KL2    YES\n",
       "                   ... \n",
       "AZU99395-KL116       NO\n",
       "AZU99445-KL116       NO\n",
       "QGK90444-KL116       NO\n",
       "QVW53860-KL116       NO\n",
       "QGK90498-KL116       NO\n",
       "Name: POSITIVE, Length: 151, dtype: object"
      ]
     },
     "execution_count": 5,
     "metadata": {},
     "output_type": "execute_result"
    }
   ],
   "source": [
    "y"
   ]
  },
  {
   "cell_type": "code",
   "execution_count": 7,
   "metadata": {},
   "outputs": [
    {
     "data": {
      "text/html": [
       "<div>\n",
       "<style scoped>\n",
       "    .dataframe tbody tr th:only-of-type {\n",
       "        vertical-align: middle;\n",
       "    }\n",
       "\n",
       "    .dataframe tbody tr th {\n",
       "        vertical-align: top;\n",
       "    }\n",
       "\n",
       "    .dataframe thead th {\n",
       "        text-align: right;\n",
       "    }\n",
       "</style>\n",
       "<table border=\"1\" class=\"dataframe\">\n",
       "  <thead>\n",
       "    <tr style=\"text-align: right;\">\n",
       "      <th></th>\n",
       "      <th>A</th>\n",
       "      <th>C</th>\n",
       "      <th>D</th>\n",
       "      <th>E</th>\n",
       "      <th>F</th>\n",
       "      <th>G</th>\n",
       "      <th>H</th>\n",
       "      <th>I</th>\n",
       "      <th>K</th>\n",
       "      <th>L</th>\n",
       "      <th>...</th>\n",
       "      <th>Turn</th>\n",
       "      <th>Sheet</th>\n",
       "      <th>DNA_Size</th>\n",
       "      <th>Prot_Size</th>\n",
       "      <th>GC_Content_DNA</th>\n",
       "      <th>AT_Content_DNA</th>\n",
       "      <th>DNA_A</th>\n",
       "      <th>DNA_C</th>\n",
       "      <th>DNA_G</th>\n",
       "      <th>DNA_T</th>\n",
       "    </tr>\n",
       "    <tr>\n",
       "      <th>Phage_KL</th>\n",
       "      <th></th>\n",
       "      <th></th>\n",
       "      <th></th>\n",
       "      <th></th>\n",
       "      <th></th>\n",
       "      <th></th>\n",
       "      <th></th>\n",
       "      <th></th>\n",
       "      <th></th>\n",
       "      <th></th>\n",
       "      <th></th>\n",
       "      <th></th>\n",
       "      <th></th>\n",
       "      <th></th>\n",
       "      <th></th>\n",
       "      <th></th>\n",
       "      <th></th>\n",
       "      <th></th>\n",
       "      <th></th>\n",
       "      <th></th>\n",
       "      <th></th>\n",
       "    </tr>\n",
       "  </thead>\n",
       "  <tbody>\n",
       "    <tr>\n",
       "      <th>ASN73504-KL1</th>\n",
       "      <td>75</td>\n",
       "      <td>11</td>\n",
       "      <td>39</td>\n",
       "      <td>31</td>\n",
       "      <td>39</td>\n",
       "      <td>63</td>\n",
       "      <td>11</td>\n",
       "      <td>44</td>\n",
       "      <td>29</td>\n",
       "      <td>52</td>\n",
       "      <td>...</td>\n",
       "      <td>0.256342</td>\n",
       "      <td>0.230975</td>\n",
       "      <td>22010</td>\n",
       "      <td>749</td>\n",
       "      <td>34.375284</td>\n",
       "      <td>65.624716</td>\n",
       "      <td>6921</td>\n",
       "      <td>3379</td>\n",
       "      <td>4187</td>\n",
       "      <td>7523</td>\n",
       "    </tr>\n",
       "    <tr>\n",
       "      <th>YP_009103257-KL1</th>\n",
       "      <td>66</td>\n",
       "      <td>11</td>\n",
       "      <td>43</td>\n",
       "      <td>29</td>\n",
       "      <td>34</td>\n",
       "      <td>60</td>\n",
       "      <td>16</td>\n",
       "      <td>38</td>\n",
       "      <td>24</td>\n",
       "      <td>52</td>\n",
       "      <td>...</td>\n",
       "      <td>0.263812</td>\n",
       "      <td>0.215470</td>\n",
       "      <td>22010</td>\n",
       "      <td>724</td>\n",
       "      <td>34.375284</td>\n",
       "      <td>65.624716</td>\n",
       "      <td>6921</td>\n",
       "      <td>3379</td>\n",
       "      <td>4187</td>\n",
       "      <td>7523</td>\n",
       "    </tr>\n",
       "    <tr>\n",
       "      <th>ASN73401-KL2</th>\n",
       "      <td>57</td>\n",
       "      <td>10</td>\n",
       "      <td>42</td>\n",
       "      <td>29</td>\n",
       "      <td>32</td>\n",
       "      <td>65</td>\n",
       "      <td>12</td>\n",
       "      <td>45</td>\n",
       "      <td>33</td>\n",
       "      <td>40</td>\n",
       "      <td>...</td>\n",
       "      <td>0.268956</td>\n",
       "      <td>0.197425</td>\n",
       "      <td>25308</td>\n",
       "      <td>699</td>\n",
       "      <td>33.791686</td>\n",
       "      <td>66.208314</td>\n",
       "      <td>8160</td>\n",
       "      <td>3815</td>\n",
       "      <td>4737</td>\n",
       "      <td>8596</td>\n",
       "    </tr>\n",
       "    <tr>\n",
       "      <th>AZU99242-KL2</th>\n",
       "      <td>79</td>\n",
       "      <td>8</td>\n",
       "      <td>41</td>\n",
       "      <td>28</td>\n",
       "      <td>38</td>\n",
       "      <td>56</td>\n",
       "      <td>6</td>\n",
       "      <td>39</td>\n",
       "      <td>26</td>\n",
       "      <td>35</td>\n",
       "      <td>...</td>\n",
       "      <td>0.242424</td>\n",
       "      <td>0.216450</td>\n",
       "      <td>25308</td>\n",
       "      <td>693</td>\n",
       "      <td>33.791686</td>\n",
       "      <td>66.208314</td>\n",
       "      <td>8160</td>\n",
       "      <td>3815</td>\n",
       "      <td>4737</td>\n",
       "      <td>8596</td>\n",
       "    </tr>\n",
       "    <tr>\n",
       "      <th>YP_009288671-KL2</th>\n",
       "      <td>54</td>\n",
       "      <td>10</td>\n",
       "      <td>43</td>\n",
       "      <td>27</td>\n",
       "      <td>33</td>\n",
       "      <td>65</td>\n",
       "      <td>13</td>\n",
       "      <td>44</td>\n",
       "      <td>32</td>\n",
       "      <td>43</td>\n",
       "      <td>...</td>\n",
       "      <td>0.266094</td>\n",
       "      <td>0.194564</td>\n",
       "      <td>25308</td>\n",
       "      <td>699</td>\n",
       "      <td>33.791686</td>\n",
       "      <td>66.208314</td>\n",
       "      <td>8160</td>\n",
       "      <td>3815</td>\n",
       "      <td>4737</td>\n",
       "      <td>8596</td>\n",
       "    </tr>\n",
       "    <tr>\n",
       "      <th>...</th>\n",
       "      <td>...</td>\n",
       "      <td>...</td>\n",
       "      <td>...</td>\n",
       "      <td>...</td>\n",
       "      <td>...</td>\n",
       "      <td>...</td>\n",
       "      <td>...</td>\n",
       "      <td>...</td>\n",
       "      <td>...</td>\n",
       "      <td>...</td>\n",
       "      <td>...</td>\n",
       "      <td>...</td>\n",
       "      <td>...</td>\n",
       "      <td>...</td>\n",
       "      <td>...</td>\n",
       "      <td>...</td>\n",
       "      <td>...</td>\n",
       "      <td>...</td>\n",
       "      <td>...</td>\n",
       "      <td>...</td>\n",
       "      <td>...</td>\n",
       "    </tr>\n",
       "    <tr>\n",
       "      <th>AZU99395-KL116</th>\n",
       "      <td>48</td>\n",
       "      <td>7</td>\n",
       "      <td>44</td>\n",
       "      <td>30</td>\n",
       "      <td>20</td>\n",
       "      <td>52</td>\n",
       "      <td>12</td>\n",
       "      <td>50</td>\n",
       "      <td>33</td>\n",
       "      <td>50</td>\n",
       "      <td>...</td>\n",
       "      <td>0.240413</td>\n",
       "      <td>0.202065</td>\n",
       "      <td>28147</td>\n",
       "      <td>678</td>\n",
       "      <td>34.788787</td>\n",
       "      <td>65.204107</td>\n",
       "      <td>8916</td>\n",
       "      <td>4316</td>\n",
       "      <td>5476</td>\n",
       "      <td>9437</td>\n",
       "    </tr>\n",
       "    <tr>\n",
       "      <th>AZU99445-KL116</th>\n",
       "      <td>67</td>\n",
       "      <td>11</td>\n",
       "      <td>48</td>\n",
       "      <td>38</td>\n",
       "      <td>36</td>\n",
       "      <td>64</td>\n",
       "      <td>16</td>\n",
       "      <td>57</td>\n",
       "      <td>30</td>\n",
       "      <td>45</td>\n",
       "      <td>...</td>\n",
       "      <td>0.261557</td>\n",
       "      <td>0.198297</td>\n",
       "      <td>28147</td>\n",
       "      <td>822</td>\n",
       "      <td>34.788787</td>\n",
       "      <td>65.204107</td>\n",
       "      <td>8916</td>\n",
       "      <td>4316</td>\n",
       "      <td>5476</td>\n",
       "      <td>9437</td>\n",
       "    </tr>\n",
       "    <tr>\n",
       "      <th>QGK90444-KL116</th>\n",
       "      <td>57</td>\n",
       "      <td>11</td>\n",
       "      <td>43</td>\n",
       "      <td>32</td>\n",
       "      <td>37</td>\n",
       "      <td>64</td>\n",
       "      <td>9</td>\n",
       "      <td>50</td>\n",
       "      <td>30</td>\n",
       "      <td>61</td>\n",
       "      <td>...</td>\n",
       "      <td>0.253989</td>\n",
       "      <td>0.219415</td>\n",
       "      <td>28147</td>\n",
       "      <td>752</td>\n",
       "      <td>34.788787</td>\n",
       "      <td>65.204107</td>\n",
       "      <td>8916</td>\n",
       "      <td>4316</td>\n",
       "      <td>5476</td>\n",
       "      <td>9437</td>\n",
       "    </tr>\n",
       "    <tr>\n",
       "      <th>QVW53860-KL116</th>\n",
       "      <td>43</td>\n",
       "      <td>9</td>\n",
       "      <td>55</td>\n",
       "      <td>36</td>\n",
       "      <td>33</td>\n",
       "      <td>49</td>\n",
       "      <td>17</td>\n",
       "      <td>73</td>\n",
       "      <td>46</td>\n",
       "      <td>69</td>\n",
       "      <td>...</td>\n",
       "      <td>0.303100</td>\n",
       "      <td>0.181401</td>\n",
       "      <td>28147</td>\n",
       "      <td>871</td>\n",
       "      <td>34.788787</td>\n",
       "      <td>65.204107</td>\n",
       "      <td>8916</td>\n",
       "      <td>4316</td>\n",
       "      <td>5476</td>\n",
       "      <td>9437</td>\n",
       "    </tr>\n",
       "    <tr>\n",
       "      <th>QGK90498-KL116</th>\n",
       "      <td>57</td>\n",
       "      <td>12</td>\n",
       "      <td>36</td>\n",
       "      <td>31</td>\n",
       "      <td>33</td>\n",
       "      <td>68</td>\n",
       "      <td>21</td>\n",
       "      <td>49</td>\n",
       "      <td>22</td>\n",
       "      <td>55</td>\n",
       "      <td>...</td>\n",
       "      <td>0.275000</td>\n",
       "      <td>0.212500</td>\n",
       "      <td>28147</td>\n",
       "      <td>720</td>\n",
       "      <td>34.788787</td>\n",
       "      <td>65.204107</td>\n",
       "      <td>8916</td>\n",
       "      <td>4316</td>\n",
       "      <td>5476</td>\n",
       "      <td>9437</td>\n",
       "    </tr>\n",
       "  </tbody>\n",
       "</table>\n",
       "<p>151 rows × 34 columns</p>\n",
       "</div>"
      ],
      "text/plain": [
       "                   A   C   D   E   F   G   H   I   K   L  ...      Turn  \\\n",
       "Phage_KL                                                  ...             \n",
       "ASN73504-KL1      75  11  39  31  39  63  11  44  29  52  ...  0.256342   \n",
       "YP_009103257-KL1  66  11  43  29  34  60  16  38  24  52  ...  0.263812   \n",
       "ASN73401-KL2      57  10  42  29  32  65  12  45  33  40  ...  0.268956   \n",
       "AZU99242-KL2      79   8  41  28  38  56   6  39  26  35  ...  0.242424   \n",
       "YP_009288671-KL2  54  10  43  27  33  65  13  44  32  43  ...  0.266094   \n",
       "...               ..  ..  ..  ..  ..  ..  ..  ..  ..  ..  ...       ...   \n",
       "AZU99395-KL116    48   7  44  30  20  52  12  50  33  50  ...  0.240413   \n",
       "AZU99445-KL116    67  11  48  38  36  64  16  57  30  45  ...  0.261557   \n",
       "QGK90444-KL116    57  11  43  32  37  64   9  50  30  61  ...  0.253989   \n",
       "QVW53860-KL116    43   9  55  36  33  49  17  73  46  69  ...  0.303100   \n",
       "QGK90498-KL116    57  12  36  31  33  68  21  49  22  55  ...  0.275000   \n",
       "\n",
       "                     Sheet  DNA_Size  Prot_Size  GC_Content_DNA  \\\n",
       "Phage_KL                                                          \n",
       "ASN73504-KL1      0.230975     22010        749       34.375284   \n",
       "YP_009103257-KL1  0.215470     22010        724       34.375284   \n",
       "ASN73401-KL2      0.197425     25308        699       33.791686   \n",
       "AZU99242-KL2      0.216450     25308        693       33.791686   \n",
       "YP_009288671-KL2  0.194564     25308        699       33.791686   \n",
       "...                    ...       ...        ...             ...   \n",
       "AZU99395-KL116    0.202065     28147        678       34.788787   \n",
       "AZU99445-KL116    0.198297     28147        822       34.788787   \n",
       "QGK90444-KL116    0.219415     28147        752       34.788787   \n",
       "QVW53860-KL116    0.181401     28147        871       34.788787   \n",
       "QGK90498-KL116    0.212500     28147        720       34.788787   \n",
       "\n",
       "                  AT_Content_DNA  DNA_A  DNA_C  DNA_G  DNA_T  \n",
       "Phage_KL                                                      \n",
       "ASN73504-KL1           65.624716   6921   3379   4187   7523  \n",
       "YP_009103257-KL1       65.624716   6921   3379   4187   7523  \n",
       "ASN73401-KL2           66.208314   8160   3815   4737   8596  \n",
       "AZU99242-KL2           66.208314   8160   3815   4737   8596  \n",
       "YP_009288671-KL2       66.208314   8160   3815   4737   8596  \n",
       "...                          ...    ...    ...    ...    ...  \n",
       "AZU99395-KL116         65.204107   8916   4316   5476   9437  \n",
       "AZU99445-KL116         65.204107   8916   4316   5476   9437  \n",
       "QGK90444-KL116         65.204107   8916   4316   5476   9437  \n",
       "QVW53860-KL116         65.204107   8916   4316   5476   9437  \n",
       "QGK90498-KL116         65.204107   8916   4316   5476   9437  \n",
       "\n",
       "[151 rows x 34 columns]"
      ]
     },
     "execution_count": 7,
     "metadata": {},
     "output_type": "execute_result"
    }
   ],
   "source": [
    "X"
   ]
  },
  {
   "cell_type": "code",
   "execution_count": 5,
   "metadata": {},
   "outputs": [
    {
     "data": {
      "text/plain": [
       "array([1, 1, 1, 1, 1, 1, 1, 1, 1, 1, 1, 1, 1, 1, 1, 1, 1, 1, 1, 0, 0, 0,\n",
       "       0, 0, 0, 0, 0, 0, 0, 0, 0, 0, 0, 0, 0, 0, 0, 0, 0, 0, 0, 0, 0, 0,\n",
       "       0, 0, 0, 0, 0, 0, 0, 0, 0, 0, 0, 0, 0, 0, 0, 0, 0, 0, 0, 0, 0, 0,\n",
       "       0, 0, 0, 0, 0, 0, 0, 0, 0, 0, 0, 0, 0, 0, 0, 0, 0, 0, 0, 0, 0, 0,\n",
       "       0, 0, 0, 0, 0, 0, 0, 0, 0, 0, 0, 0, 0, 0, 0, 0, 0, 0, 0, 0, 0, 0,\n",
       "       0, 0, 0, 0, 0, 0, 0, 0, 0, 0, 0, 0, 0, 0, 0, 0, 0, 0, 0, 0, 0, 0,\n",
       "       0, 0, 0, 0, 0, 0, 0, 0, 0, 0, 0, 0, 0, 0, 0, 0, 0, 0, 0])"
      ]
     },
     "execution_count": 5,
     "metadata": {},
     "output_type": "execute_result"
    }
   ],
   "source": [
    "from sklearn.preprocessing import LabelEncoder\n",
    "label_encoder = LabelEncoder()\n",
    "y = label_encoder.fit_transform(y)\n",
    "y"
   ]
  },
  {
   "cell_type": "code",
   "execution_count": 6,
   "metadata": {},
   "outputs": [],
   "source": [
    "from sklearn.model_selection import train_test_split, cross_validate\n",
    "\n",
    "X_train, X_test, y_train, y_test = train_test_split(X, y, test_size=0.40)"
   ]
  },
  {
   "cell_type": "code",
   "execution_count": 7,
   "metadata": {},
   "outputs": [
    {
     "name": "stdout",
     "output_type": "stream",
     "text": [
      "(90, 34)\n",
      "(61, 34)\n",
      "(90,)\n",
      "(61,)\n"
     ]
    }
   ],
   "source": [
    "print(X_train.shape)\n",
    "print(X_test.shape)\n",
    "print(y_train.shape)\n",
    "print(y_test.shape)"
   ]
  },
  {
   "cell_type": "code",
   "execution_count": 2,
   "metadata": {},
   "outputs": [],
   "source": [
    "from sklearn.preprocessing import StandardScaler\n",
    "\n",
    "scaler = StandardScaler()\n",
    "\n",
    "X_train = scaler.fit_transform(X_train)\n",
    "X_test = scaler.transform(X_test)"
   ]
  },
  {
   "cell_type": "markdown",
   "metadata": {},
   "source": [
    "# RANDOM FOREST"
   ]
  },
  {
   "cell_type": "code",
   "execution_count": 2,
   "metadata": {},
   "outputs": [],
   "source": [
    "from sklearn.ensemble import RandomForestClassifier\n",
    "\n",
    "rfc_model=RandomForestClassifier()\n"
   ]
  },
  {
   "cell_type": "code",
   "execution_count": 3,
   "metadata": {},
   "outputs": [
    {
     "data": {
      "text/plain": [
       "RandomizedSearchCV(cv=5, estimator=RandomForestClassifier(),\n",
       "                   param_distributions={'criterion': ['gini', 'entropy'],\n",
       "                                        'max_depth': [4, 5, 6, 7, 8],\n",
       "                                        'max_features': ['auto', 'sqrt',\n",
       "                                                         'log2'],\n",
       "                                        'n_estimators': [100, 200, 300, 400,\n",
       "                                                         500]})"
      ]
     },
     "execution_count": 3,
     "metadata": {},
     "output_type": "execute_result"
    }
   ],
   "source": [
    "from sklearn.model_selection import RandomizedSearchCV, train_test_split, cross_validate\n",
    "\n",
    "# https://www.kaggle.com/code/sociopath00/random-forest-using-gridsearchcv/notebook\n",
    "\n",
    "parameters = { \n",
    "    'n_estimators': [100,200,300,400, 500],\n",
    "    'max_features': ['auto', 'sqrt', 'log2'],\n",
    "    'max_depth' : [4,5,6,7,8],\n",
    "    'criterion' : ['gini', 'entropy']\n",
    "\n",
    "}\n",
    "rand_search_rfc = RandomizedSearchCV(estimator=rfc_model, param_distributions=parameters, cv=5)\n",
    "rand_search_rfc.fit(X_train, y_train)"
   ]
  },
  {
   "cell_type": "code",
   "execution_count": 4,
   "metadata": {},
   "outputs": [
    {
     "name": "stdout",
     "output_type": "stream",
     "text": [
      "rand_search_rfc.best_params_:  {'n_estimators': 200, 'max_features': 'sqrt', 'max_depth': 7, 'criterion': 'gini'}\n"
     ]
    }
   ],
   "source": [
    "print('rand_search_rfc.best_params_: ',rand_search_rfc.best_params_)"
   ]
  },
  {
   "cell_type": "code",
   "execution_count": 5,
   "metadata": {},
   "outputs": [],
   "source": [
    "new_rfc_model = RandomForestClassifier(**rand_search_rfc.best_params_)"
   ]
  },
  {
   "cell_type": "code",
   "execution_count": 6,
   "metadata": {},
   "outputs": [
    {
     "name": "stdout",
     "output_type": "stream",
     "text": [
      "Métrica: test_accuracy\n",
      "Resultados de cada fold: [0.88888889 0.88888889 0.83333333 0.83333333 0.88888889]\n",
      "Média de todas as folds: 0.8666666666666668\n",
      "Desvio padrão: 0.027216552697590827\n",
      "Métrica: train_accuracy\n",
      "Resultados de cada fold: [1. 1. 1. 1. 1.]\n",
      "Média de todas as folds: 1.0\n",
      "Desvio padrão: 0.0\n",
      "Métrica: test_precision\n",
      "Resultados de cada fold: [0.         0.         0.         0.33333333 0.        ]\n",
      "Média de todas as folds: 0.06666666666666667\n",
      "Desvio padrão: 0.13333333333333333\n",
      "Métrica: train_precision\n",
      "Resultados de cada fold: [1. 1. 1. 1. 1.]\n",
      "Média de todas as folds: 1.0\n",
      "Desvio padrão: 0.0\n",
      "Métrica: test_recall\n",
      "Resultados de cada fold: [0.  0.  0.  0.5 0. ]\n",
      "Média de todas as folds: 0.1\n",
      "Desvio padrão: 0.2\n",
      "Métrica: train_recall\n",
      "Resultados de cada fold: [1. 1. 1. 1. 1.]\n",
      "Média de todas as folds: 1.0\n",
      "Desvio padrão: 0.0\n",
      "Métrica: test_f1\n",
      "Resultados de cada fold: [0.  0.  0.  0.4 0. ]\n",
      "Média de todas as folds: 0.08\n",
      "Desvio padrão: 0.16\n",
      "Métrica: train_f1\n",
      "Resultados de cada fold: [1. 1. 1. 1. 1.]\n",
      "Média de todas as folds: 1.0\n",
      "Desvio padrão: 0.0\n"
     ]
    }
   ],
   "source": [
    "# https://scikit-learn.org/stable/modules/cross_validation.html?highlight=cross_validation\n",
    "\n",
    "from sklearn.model_selection import cross_validate\n",
    "\n",
    "scoring_metrics = ['accuracy', 'precision', 'recall', 'f1']\n",
    "\n",
    "cv_scores_rfc = cross_validate(new_rfc_model, X_train, y_train, cv=5, scoring=scoring_metrics, return_train_score=True)\n",
    "\n",
    "for key, value in cv_scores_rfc.items():\n",
    "    if key != \"fit_time\" and key != \"score_time\":\n",
    "        print(\"Métrica: %s\" % key)\n",
    "        print(\"Resultados de cada fold: %s\" % value) # resultados de cada fold\n",
    "        print(\"Média de todas as folds: %s\" % np.mean(value))\n",
    "        print(\"Desvio padrão: %s\" % np.std(value))"
   ]
  },
  {
   "cell_type": "code",
   "execution_count": 7,
   "metadata": {},
   "outputs": [],
   "source": [
    "better_rfc_model = new_rfc_model.fit(X_train, y_train)"
   ]
  },
  {
   "cell_type": "code",
   "execution_count": 8,
   "metadata": {},
   "outputs": [
    {
     "name": "stdout",
     "output_type": "stream",
     "text": [
      "Accuracy for Random Forest on CV data:  0.7704918032786885\n",
      "Precision for Random Forest on CV data:  0.14285714285714285\n",
      "Recall for Random Forest on CV data:  0.1111111111111111\n"
     ]
    }
   ],
   "source": [
    "from sklearn.metrics import accuracy_score, precision_score, recall_score\n",
    "\n",
    "y_pred = better_rfc_model.predict(X_test)\n",
    "print(\"Accuracy for Random Forest on CV data: \",accuracy_score(y_test,y_pred))  \n",
    "print(\"Precision for Random Forest on CV data: \",precision_score(y_test,y_pred))\n",
    "print(\"Recall for Random Forest on CV data: \",recall_score(y_test,y_pred))"
   ]
  },
  {
   "cell_type": "code",
   "execution_count": 1,
   "metadata": {},
   "outputs": [
    {
     "name": "stdout",
     "output_type": "stream",
     "text": [
      "0.125\n"
     ]
    }
   ],
   "source": [
    "rf_f1score = 2 * (0.14285714285714285 * 0.1111111111111111) / (0.14285714285714285 + 0.1111111111111111)\n",
    "print(rf_f1score)"
   ]
  },
  {
   "cell_type": "code",
   "execution_count": 9,
   "metadata": {},
   "outputs": [
    {
     "name": "stdout",
     "output_type": "stream",
     "text": [
      "[{'accuracy': 0.7704918032786885, 'precision': 0.14285714285714285, 'recall': 0.1111111111111111}]\n"
     ]
    }
   ],
   "source": [
    "import csv\n",
    "metrics_names = ['accuracy', 'precision', 'recall']\n",
    "\n",
    "dict_RF=[{'accuracy':accuracy_score(y_test,y_pred),'precision':precision_score(y_test,y_pred),'recall':recall_score(y_test,y_pred)}]\n",
    "\n",
    "print(dict_RF)\n",
    "\n",
    "with open('RF_metrics.csv', 'w') as csvfile:\n",
    "    writer = csv.DictWriter(csvfile, fieldnames = metrics_names)\n",
    "    writer.writeheader()\n",
    "    writer.writerows(dict_RF)"
   ]
  },
  {
   "cell_type": "code",
   "execution_count": 10,
   "metadata": {},
   "outputs": [
    {
     "data": {
      "text/plain": [
       "Text(91.68, 0.5, 'predicted label')"
      ]
     },
     "execution_count": 10,
     "metadata": {},
     "output_type": "execute_result"
    },
    {
     "data": {
      "image/png": "[encoded data removed]",
      "text/plain": [
       "<Figure size 432x288 with 1 Axes>"
      ]
     },
     "metadata": {
      "needs_background": "light"
     },
     "output_type": "display_data"
    }
   ],
   "source": [
    "from sklearn.metrics import confusion_matrix\n",
    "from sklearn.metrics import *\n",
    "import seaborn as sns\n",
    "import matplotlib.pyplot as plt\n",
    "\n",
    "cm_rfc = confusion_matrix(y_test, y_pred)\n",
    "\n",
    "sns.heatmap(cm_rfc.T, square=True, annot=True, fmt='d', cbar=False)\n",
    "plt.xlabel('true label')\n",
    "plt.ylabel('predicted label')\n",
    "\n"
   ]
  },
  {
   "cell_type": "code",
   "execution_count": 11,
   "metadata": {},
   "outputs": [
    {
     "name": "stdout",
     "output_type": "stream",
     "text": [
      "              precision    recall  f1-score   support\n",
      "\n",
      "           0       0.85      0.88      0.87        52\n",
      "           1       0.14      0.11      0.12         9\n",
      "\n",
      "    accuracy                           0.77        61\n",
      "   macro avg       0.50      0.50      0.50        61\n",
      "weighted avg       0.75      0.77      0.76        61\n",
      "\n"
     ]
    }
   ],
   "source": [
    "from sklearn.metrics import classification_report\n",
    "\n",
    "y_true, y_pred = y_test, better_rfc_model.predict(X_test)\n",
    "print(classification_report(y_true, y_pred))"
   ]
  },
  {
   "cell_type": "code",
   "execution_count": 12,
   "metadata": {},
   "outputs": [
    {
     "name": "stdout",
     "output_type": "stream",
     "text": [
      "Feature: A Score: 0.02700\n",
      "Feature: C Score: 0.01165\n",
      "Feature: D Score: 0.00979\n",
      "Feature: E Score: 0.02360\n",
      "Feature: F Score: 0.06454\n",
      "Feature: G Score: 0.03059\n",
      "Feature: H Score: 0.01275\n",
      "Feature: I Score: 0.03522\n",
      "Feature: K Score: 0.01114\n",
      "Feature: L Score: 0.00952\n",
      "Feature: M Score: 0.04253\n",
      "Feature: N Score: 0.01353\n",
      "Feature: P Score: 0.01298\n",
      "Feature: Q Score: 0.01214\n",
      "Feature: R Score: 0.03478\n",
      "Feature: S Score: 0.02408\n",
      "Feature: T Score: 0.03364\n",
      "Feature: V Score: 0.01657\n",
      "Feature: W Score: 0.01257\n",
      "Feature: Y Score: 0.02781\n",
      "Feature: Molecular_weight Score: 0.01985\n",
      "Feature: Isoelectric_Point Score: 0.04932\n",
      "Feature: Aromaticity Score: 0.00746\n",
      "Feature: Helix Score: 0.03286\n",
      "Feature: Turn Score: 0.03907\n",
      "Feature: Sheet Score: 0.03602\n",
      "Feature: DNA_Size Score: 0.03591\n",
      "Feature: Prot_Size Score: 0.02765\n",
      "Feature: GC_Content_DNA Score: 0.04590\n",
      "Feature: AT_Content_DNA Score: 0.05150\n",
      "Feature: DNA_A Score: 0.05199\n",
      "Feature: DNA_C Score: 0.05009\n",
      "Feature: DNA_G Score: 0.04883\n",
      "Feature: DNA_T Score: 0.03713\n"
     ]
    }
   ],
   "source": [
    "from matplotlib import pyplot\n",
    "\n",
    "importance_rfc = better_rfc_model.feature_importances_\n",
    "feats = X.columns.tolist()\n",
    "# summarize feature importance\n",
    "for i,v in enumerate(importance_rfc):\n",
    "\tprint('Feature:', feats[i], 'Score: %.5f' % (v))"
   ]
  },
  {
   "cell_type": "code",
   "execution_count": 13,
   "metadata": {},
   "outputs": [
    {
     "data": {
      "text/plain": [
       "<matplotlib.axes._subplots.AxesSubplot at 0x1e40c220700>"
      ]
     },
     "execution_count": 13,
     "metadata": {},
     "output_type": "execute_result"
    },
    {
     "data": {
      "image/png": "[encoded data removed]",
      "text/plain": [
       "<Figure size 1080x576 with 1 Axes>"
      ]
     },
     "metadata": {
      "needs_background": "light"
     },
     "output_type": "display_data"
    }
   ],
   "source": [
    "dic_features = dict(zip(feats, importance_rfc))\n",
    "\n",
    "feat_imp = pd.DataFrame.from_dict(dic_features, orient='index', columns=['importance'])\n",
    "\n",
    "feat_imp.plot(kind='barh',figsize=(15, 8))"
   ]
  },
  {
   "cell_type": "markdown",
   "metadata": {},
   "source": [
    "# SUPPORT VECTOR MACHINE"
   ]
  },
  {
   "cell_type": "code",
   "execution_count": 9,
   "metadata": {},
   "outputs": [],
   "source": [
    "from sklearn.svm import SVC\n",
    "\n",
    "svc_model = SVC()"
   ]
  },
  {
   "cell_type": "code",
   "execution_count": 10,
   "metadata": {},
   "outputs": [
    {
     "data": {
      "text/plain": [
       "RandomizedSearchCV(cv=5, estimator=SVC(),\n",
       "                   param_distributions={'C': [0.1, 1, 10, 100, 1000],\n",
       "                                        'gamma': [1, 0.1, 0.01, 0.001, 0.0001],\n",
       "                                        'kernel': ['linear']})"
      ]
     },
     "execution_count": 10,
     "metadata": {},
     "output_type": "execute_result"
    }
   ],
   "source": [
    "# https://datagy.io/python-support-vector-machines/\n",
    "# https://holypython.com/svm/support-vector-machine-optimization-parameters/\n",
    "\n",
    "from sklearn.model_selection import RandomizedSearchCV\n",
    "\n",
    "from scipy.stats import uniform as sp_randFloat\n",
    "from scipy.stats import randint as sp_randInt\n",
    "\n",
    "params = {\n",
    "    'C': [0.1,1, 10, 100, 1000],\n",
    "    'gamma': [1, 0.1, 0.01, 0.001, 0.0001],\n",
    "    'kernel': ['linear']\n",
    "}\n",
    "\n",
    "\n",
    "rand_search_svc = RandomizedSearchCV(estimator=svc_model, param_distributions=params, cv=5)\n",
    "rand_search_svc.fit(X_train, y_train)"
   ]
  },
  {
   "cell_type": "code",
   "execution_count": 11,
   "metadata": {},
   "outputs": [
    {
     "name": "stdout",
     "output_type": "stream",
     "text": [
      "rand_search_svc.best_params_:  {'kernel': 'linear', 'gamma': 0.1, 'C': 1}\n"
     ]
    }
   ],
   "source": [
    "print('rand_search_svc.best_params_: ',rand_search_svc.best_params_)"
   ]
  },
  {
   "cell_type": "code",
   "execution_count": 12,
   "metadata": {},
   "outputs": [],
   "source": [
    "new_svc_model = SVC(**rand_search_svc.best_params_)"
   ]
  },
  {
   "cell_type": "code",
   "execution_count": 13,
   "metadata": {},
   "outputs": [
    {
     "name": "stdout",
     "output_type": "stream",
     "text": [
      "Métrica: test_accuracy\n",
      "Resultados de cada fold: [0.88888889 0.88888889 0.88888889 0.88888889 0.88888889]\n",
      "Média de todas as folds: 0.888888888888889\n",
      "Desvio padrão: 1.1102230246251565e-16\n",
      "Métrica: train_accuracy\n",
      "Resultados de cada fold: [0.90277778 0.88888889 0.90277778 0.90277778 0.90277778]\n",
      "Média de todas as folds: 0.9\n",
      "Desvio padrão: 0.005555555555555581\n",
      "Métrica: test_precision\n",
      "Resultados de cada fold: [0. 0. 0. 0. 0.]\n",
      "Média de todas as folds: 0.0\n",
      "Desvio padrão: 0.0\n",
      "Métrica: train_precision\n",
      "Resultados de cada fold: [1. 0. 1. 1. 1.]\n",
      "Média de todas as folds: 0.8\n",
      "Desvio padrão: 0.4000000000000001\n",
      "Métrica: test_recall\n",
      "Resultados de cada fold: [0. 0. 0. 0. 0.]\n",
      "Média de todas as folds: 0.0\n",
      "Desvio padrão: 0.0\n",
      "Métrica: train_recall\n",
      "Resultados de cada fold: [0.125 0.    0.125 0.125 0.125]\n",
      "Média de todas as folds: 0.1\n",
      "Desvio padrão: 0.05000000000000001\n",
      "Métrica: test_f1\n",
      "Resultados de cada fold: [0. 0. 0. 0. 0.]\n",
      "Média de todas as folds: 0.0\n",
      "Desvio padrão: 0.0\n",
      "Métrica: train_f1\n",
      "Resultados de cada fold: [0.22222222 0.         0.22222222 0.22222222 0.22222222]\n",
      "Média de todas as folds: 0.17777777777777776\n",
      "Desvio padrão: 0.08888888888888888\n"
     ]
    }
   ],
   "source": [
    "from sklearn.model_selection import cross_validate\n",
    "\n",
    "scoring_metrics = ['accuracy', 'precision', 'recall', 'f1']\n",
    "\n",
    "cv_scores_svc = cross_validate(new_svc_model, X_train, y_train, cv=5, scoring=scoring_metrics, return_train_score=True)\n",
    "\n",
    "for key, value in cv_scores_svc.items():\n",
    "    if key != \"fit_time\" and key != \"score_time\":\n",
    "        print(\"Métrica: %s\" % key)\n",
    "        print(\"Resultados de cada fold: %s\" % value) # resultados de cada fold\n",
    "        print(\"Média de todas as folds: %s\" % np.mean(value))\n",
    "        print(\"Desvio padrão: %s\" % np.std(value))"
   ]
  },
  {
   "cell_type": "code",
   "execution_count": 14,
   "metadata": {},
   "outputs": [],
   "source": [
    "better_svc_model = new_svc_model.fit(X_train, y_train)"
   ]
  },
  {
   "cell_type": "code",
   "execution_count": 15,
   "metadata": {},
   "outputs": [
    {
     "name": "stdout",
     "output_type": "stream",
     "text": [
      "Accuracy for Support Vector Machine on CV data:  0.8688524590163934\n",
      "Precision for Support Vector Machine on CV data:  1.0\n",
      "Recall for Support Vector Machine on CV data:  0.1111111111111111\n"
     ]
    }
   ],
   "source": [
    "from sklearn.metrics import accuracy_score, precision_score, recall_score, f1_score\n",
    "\n",
    "y_pred = better_svc_model.predict(X_test)\n",
    "print(\"Accuracy for Support Vector Machine on CV data: \",accuracy_score(y_test,y_pred))  \n",
    "print(\"Precision for Support Vector Machine on CV data: \",precision_score(y_test,y_pred))\n",
    "print(\"Recall for Support Vector Machine on CV data: \",recall_score(y_test,y_pred))"
   ]
  },
  {
   "cell_type": "code",
   "execution_count": 2,
   "metadata": {},
   "outputs": [
    {
     "name": "stdout",
     "output_type": "stream",
     "text": [
      "0.19999999999999998\n"
     ]
    }
   ],
   "source": [
    "svc_f1score = 2 * (1.0 * 0.1111111111111111) / (1.0 + 0.1111111111111111)\n",
    "print(svc_f1score)"
   ]
  },
  {
   "cell_type": "code",
   "execution_count": 16,
   "metadata": {},
   "outputs": [
    {
     "name": "stdout",
     "output_type": "stream",
     "text": [
      "[{'accuracy': 0.8688524590163934, 'precision': 1.0, 'recall': 0.1111111111111111}]\n"
     ]
    }
   ],
   "source": [
    "import csv\n",
    "metrics_names = ['accuracy', 'precision', 'recall']\n",
    "\n",
    "dict_SVM=[{'accuracy':accuracy_score(y_test,y_pred),'precision':precision_score(y_test,y_pred),'recall':recall_score(y_test,y_pred)}]\n",
    "\n",
    "print(dict_SVM)\n",
    "\n",
    "with open('SVM_metrics.csv', 'w') as csvfile:\n",
    "    writer = csv.DictWriter(csvfile, fieldnames = metrics_names)\n",
    "    writer.writeheader()\n",
    "    writer.writerows(dict_SVM)"
   ]
  },
  {
   "cell_type": "code",
   "execution_count": 17,
   "metadata": {},
   "outputs": [
    {
     "data": {
      "text/plain": [
       "Text(91.68, 0.5, 'predicted label')"
      ]
     },
     "execution_count": 17,
     "metadata": {},
     "output_type": "execute_result"
    },
    {
     "data": {
      "image/png": "[encoded data removed]",
      "text/plain": [
       "<Figure size 432x288 with 1 Axes>"
      ]
     },
     "metadata": {
      "needs_background": "light"
     },
     "output_type": "display_data"
    }
   ],
   "source": [
    "from sklearn.metrics import confusion_matrix\n",
    "from sklearn.metrics import *\n",
    "import seaborn as sns\n",
    "import matplotlib.pyplot as plt\n",
    "\n",
    "cm_svc = confusion_matrix(y_test, y_pred)\n",
    "\n",
    "sns.heatmap(cm_svc.T, square=True, annot=True, fmt='d', cbar=False)\n",
    "plt.xlabel('true label')\n",
    "plt.ylabel('predicted label')"
   ]
  },
  {
   "cell_type": "code",
   "execution_count": 18,
   "metadata": {},
   "outputs": [
    {
     "name": "stdout",
     "output_type": "stream",
     "text": [
      "              precision    recall  f1-score   support\n",
      "\n",
      "           0       0.87      1.00      0.93        52\n",
      "           1       1.00      0.11      0.20         9\n",
      "\n",
      "    accuracy                           0.87        61\n",
      "   macro avg       0.93      0.56      0.56        61\n",
      "weighted avg       0.89      0.87      0.82        61\n",
      "\n"
     ]
    }
   ],
   "source": [
    "from sklearn.metrics import classification_report\n",
    "\n",
    "y_true, y_pred = y_test, better_svc_model.predict(X_test)\n",
    "print(classification_report(y_true, y_pred))"
   ]
  },
  {
   "cell_type": "code",
   "execution_count": 19,
   "metadata": {},
   "outputs": [
    {
     "name": "stdout",
     "output_type": "stream",
     "text": [
      "Feature: A Score: -0.14257\n",
      "Feature: C Score: 0.30258\n",
      "Feature: D Score: 0.05299\n",
      "Feature: E Score: -0.19828\n",
      "Feature: F Score: -0.13833\n",
      "Feature: G Score: -0.02739\n",
      "Feature: H Score: 0.04247\n",
      "Feature: I Score: -0.36377\n",
      "Feature: K Score: 0.05098\n",
      "Feature: L Score: 0.34342\n",
      "Feature: M Score: 0.19961\n",
      "Feature: N Score: -0.11573\n",
      "Feature: P Score: -0.08008\n",
      "Feature: Q Score: 0.32101\n",
      "Feature: R Score: 0.03664\n",
      "Feature: S Score: 0.04829\n",
      "Feature: T Score: 0.02606\n",
      "Feature: V Score: -0.03174\n",
      "Feature: W Score: 0.36933\n",
      "Feature: Y Score: 0.22700\n",
      "Feature: Molecular_weight Score: 0.01552\n",
      "Feature: Isoelectric_Point Score: 0.38173\n",
      "Feature: Aromaticity Score: 0.18709\n",
      "Feature: Helix Score: 0.08484\n",
      "Feature: Turn Score: -0.12902\n",
      "Feature: Sheet Score: -0.03477\n",
      "Feature: DNA_Size Score: 0.00104\n",
      "Feature: Prot_Size Score: -0.01216\n",
      "Feature: GC_Content_DNA Score: 0.00185\n",
      "Feature: AT_Content_DNA Score: -0.00185\n",
      "Feature: DNA_A Score: 0.00219\n",
      "Feature: DNA_C Score: 0.00032\n",
      "Feature: DNA_G Score: -0.00920\n",
      "Feature: DNA_T Score: 0.00592\n"
     ]
    }
   ],
   "source": [
    "from matplotlib import pyplot\n",
    "\n",
    "importance_svc = (better_svc_model.coef_).T\n",
    "feats = X.columns.tolist()\n",
    "# summarize feature importance\n",
    "for i,v in enumerate(importance_svc):\n",
    "\tprint('Feature:', feats[i], 'Score: %.5f' % (v))\n",
    "# print(importance_svc)\n",
    "# print(feats)"
   ]
  },
  {
   "cell_type": "code",
   "execution_count": 20,
   "metadata": {},
   "outputs": [
    {
     "data": {
      "text/plain": [
       "<matplotlib.axes._subplots.AxesSubplot at 0x2aa81d575b0>"
      ]
     },
     "execution_count": 20,
     "metadata": {},
     "output_type": "execute_result"
    },
    {
     "data": {
      "image/png": "[encoded data removed]",
      "text/plain": [
       "<Figure size 1080x576 with 1 Axes>"
      ]
     },
     "metadata": {
      "needs_background": "light"
     },
     "output_type": "display_data"
    }
   ],
   "source": [
    "dic_features = dict(zip(feats, importance_svc))\n",
    "\n",
    "feat_imp = pd.DataFrame.from_dict(dic_features, orient='index', columns=['importance'])\n",
    "\n",
    "feat_imp.plot(kind='barh',figsize=(15, 8))"
   ]
  },
  {
   "cell_type": "markdown",
   "metadata": {},
   "source": [
    "# Gradient Boosting Classifier"
   ]
  },
  {
   "cell_type": "code",
   "execution_count": 14,
   "metadata": {},
   "outputs": [],
   "source": [
    "from sklearn.ensemble import GradientBoostingClassifier\n",
    "\n",
    "gbc_model = GradientBoostingClassifier()"
   ]
  },
  {
   "cell_type": "code",
   "execution_count": 15,
   "metadata": {},
   "outputs": [
    {
     "data": {
      "text/plain": [
       "RandomizedSearchCV(cv=5, estimator=GradientBoostingClassifier(),\n",
       "                   param_distributions={'learning_rate': <scipy.stats._distn_infrastructure.rv_frozen object at 0x00000164C5266520>,\n",
       "                                        'max_depth': <scipy.stats._distn_infrastructure.rv_frozen object at 0x00000164C5266B20>,\n",
       "                                        'max_features': <scipy.stats._distn_infrastructure.rv_frozen object at 0x00000164C5266790>,\n",
       "                                        'n_estimators': <scipy.stats._distn_infrastructure.rv_frozen object at 0x00000164C52669D0>})"
      ]
     },
     "execution_count": 15,
     "metadata": {},
     "output_type": "execute_result"
    }
   ],
   "source": [
    "from sklearn.model_selection import RandomizedSearchCV, cross_validate\n",
    "from scipy.stats import uniform as sp_randFloat\n",
    "from scipy.stats import randint as sp_randInt\n",
    "from scipy.stats import loguniform\n",
    "\n",
    "# https://www.projectpro.io/recipes/find-optimal-parameters-using-randomizedsearchcv\n",
    "\n",
    "# parameters = {\"learning_rate\": sp_randFloat(),\n",
    "#                   \"subsample\"    : sp_randFloat(),\n",
    "#                   \"n_estimators\" : sp_randInt(100, 1000),\n",
    "#                   \"max_depth\"    : sp_randInt(4, 10)\n",
    "#                  }\n",
    "\n",
    "parameters = {\"learning_rate\": loguniform(1e-3,1e0),\n",
    "                  \"max_features\"    : loguniform(5e-1,1),\n",
    "                  \"n_estimators\" : sp_randInt(1e1, 1e3),\n",
    "                  \"max_depth\"    : sp_randInt(1e0, 2e1)\n",
    "                 }\n",
    "\n",
    "rand_search_gbc = RandomizedSearchCV(estimator=gbc_model, param_distributions = parameters, cv=5)\n",
    "rand_search_gbc.fit(X_train, y_train)\n",
    "\n",
    "# gridsearchcv estava a demorar muito tempo para terminar"
   ]
  },
  {
   "cell_type": "code",
   "execution_count": 16,
   "metadata": {},
   "outputs": [
    {
     "name": "stdout",
     "output_type": "stream",
     "text": [
      "rand_search_gbc.best_params_:  {'learning_rate': 0.0010142948525165912, 'max_depth': 17, 'max_features': 0.5350967137026315, 'n_estimators': 265}\n"
     ]
    }
   ],
   "source": [
    "print('rand_search_gbc.best_params_: ',rand_search_gbc.best_params_)"
   ]
  },
  {
   "cell_type": "code",
   "execution_count": 17,
   "metadata": {},
   "outputs": [],
   "source": [
    "new_gbc_model = GradientBoostingClassifier(**rand_search_gbc.best_params_)"
   ]
  },
  {
   "cell_type": "code",
   "execution_count": 18,
   "metadata": {},
   "outputs": [
    {
     "name": "stdout",
     "output_type": "stream",
     "text": [
      "Métrica: test_accuracy\n",
      "Resultados de cada fold: [0.88888889 0.88888889 0.83333333 0.83333333 0.83333333]\n",
      "Média de todas as folds: 0.8555555555555555\n",
      "Desvio padrão: 0.027216552697590827\n",
      "Métrica: train_accuracy\n",
      "Resultados de cada fold: [0.84722222 0.84722222 0.86111111 0.86111111 0.86111111]\n",
      "Média de todas as folds: 0.8555555555555555\n",
      "Desvio padrão: 0.0068041381743977475\n",
      "Métrica: test_precision\n",
      "Resultados de cada fold: [0. 0. 0. 0. 0.]\n",
      "Média de todas as folds: 0.0\n",
      "Desvio padrão: 0.0\n",
      "Métrica: train_precision\n",
      "Resultados de cada fold: [0. 0. 0. 0. 0.]\n",
      "Média de todas as folds: 0.0\n",
      "Desvio padrão: 0.0\n",
      "Métrica: test_recall\n",
      "Resultados de cada fold: [0. 0. 0. 0. 0.]\n",
      "Média de todas as folds: 0.0\n",
      "Desvio padrão: 0.0\n",
      "Métrica: train_recall\n",
      "Resultados de cada fold: [0. 0. 0. 0. 0.]\n",
      "Média de todas as folds: 0.0\n",
      "Desvio padrão: 0.0\n",
      "Métrica: test_f1\n",
      "Resultados de cada fold: [0. 0. 0. 0. 0.]\n",
      "Média de todas as folds: 0.0\n",
      "Desvio padrão: 0.0\n",
      "Métrica: train_f1\n",
      "Resultados de cada fold: [0. 0. 0. 0. 0.]\n",
      "Média de todas as folds: 0.0\n",
      "Desvio padrão: 0.0\n"
     ]
    }
   ],
   "source": [
    "from sklearn.model_selection import cross_validate\n",
    "\n",
    "scoring_metrics = ['accuracy', 'precision', 'recall', 'f1']\n",
    "\n",
    "cv_scores_gbc = cross_validate(new_gbc_model, X_train, y_train, cv=5, scoring=scoring_metrics, return_train_score=True)\n",
    "\n",
    "for key, value in cv_scores_gbc.items():\n",
    "    if key != \"fit_time\" and key != \"score_time\":\n",
    "        print(\"Métrica: %s\" % key)\n",
    "        print(\"Resultados de cada fold: %s\" % value) # resultados de cada fold\n",
    "        print(\"Média de todas as folds: %s\" % np.mean(value))\n",
    "        print(\"Desvio padrão: %s\" % np.std(value))"
   ]
  },
  {
   "cell_type": "code",
   "execution_count": 19,
   "metadata": {},
   "outputs": [],
   "source": [
    "better_gbc_model = new_gbc_model.fit(X_train, y_train)"
   ]
  },
  {
   "cell_type": "code",
   "execution_count": 20,
   "metadata": {},
   "outputs": [
    {
     "name": "stdout",
     "output_type": "stream",
     "text": [
      "Accuracy for Gradient Boosting Classifier on CV data:  0.9016393442622951\n",
      "Precision for Gradient Boosting Classifier on CV data:  0.0\n",
      "Recall for Gradient Boosting Classifier on CV data:  0.0\n"
     ]
    }
   ],
   "source": [
    "from sklearn.metrics import accuracy_score, precision_score, recall_score, f1_score\n",
    "\n",
    "y_pred = better_gbc_model.predict(X_test)\n",
    "print(\"Accuracy for Gradient Boosting Classifier on CV data: \",accuracy_score(y_test,y_pred))  \n",
    "print(\"Precision for Gradient Boosting Classifier on CV data: \",precision_score(y_test,y_pred))\n",
    "print(\"Recall for Gradient Boosting Classifier on CV data: \",recall_score(y_test,y_pred))"
   ]
  },
  {
   "cell_type": "code",
   "execution_count": 21,
   "metadata": {},
   "outputs": [
    {
     "name": "stdout",
     "output_type": "stream",
     "text": [
      "[{'accuracy': 0.9016393442622951, 'precision': 0.0, 'recall': 0.0}]\n"
     ]
    }
   ],
   "source": [
    "import csv\n",
    "metrics_names = ['accuracy', 'precision', 'recall']\n",
    "\n",
    "dict_GBC=[{'accuracy':accuracy_score(y_test,y_pred),'precision':precision_score(y_test,y_pred),'recall':recall_score(y_test,y_pred)}]\n",
    "\n",
    "print(dict_GBC)\n",
    "\n",
    "with open('GBC_metrics.csv', 'w') as csvfile:\n",
    "    writer = csv.DictWriter(csvfile, fieldnames = metrics_names)\n",
    "    writer.writeheader()\n",
    "    writer.writerows(dict_GBC)"
   ]
  },
  {
   "cell_type": "code",
   "execution_count": 22,
   "metadata": {},
   "outputs": [
    {
     "data": {
      "text/plain": [
       "Text(91.68, 0.5, 'predicted label')"
      ]
     },
     "execution_count": 22,
     "metadata": {},
     "output_type": "execute_result"
    },
    {
     "data": {
      "image/png": "[encoded data removed]",
      "text/plain": [
       "<Figure size 432x288 with 1 Axes>"
      ]
     },
     "metadata": {
      "needs_background": "light"
     },
     "output_type": "display_data"
    }
   ],
   "source": [
    "from sklearn.metrics import confusion_matrix\n",
    "from sklearn.metrics import *\n",
    "import seaborn as sns\n",
    "import matplotlib.pyplot as plt\n",
    "\n",
    "cm_gbc = confusion_matrix(y_test, y_pred)\n",
    "\n",
    "sns.heatmap(cm_gbc.T, square=True, annot=True, fmt='d', cbar=False)\n",
    "plt.xlabel('true label')\n",
    "plt.ylabel('predicted label')"
   ]
  },
  {
   "cell_type": "code",
   "execution_count": 23,
   "metadata": {},
   "outputs": [
    {
     "name": "stdout",
     "output_type": "stream",
     "text": [
      "              precision    recall  f1-score   support\n",
      "\n",
      "           0       0.90      1.00      0.95        55\n",
      "           1       0.00      0.00      0.00         6\n",
      "\n",
      "    accuracy                           0.90        61\n",
      "   macro avg       0.45      0.50      0.47        61\n",
      "weighted avg       0.81      0.90      0.86        61\n",
      "\n"
     ]
    }
   ],
   "source": [
    "from sklearn.metrics import classification_report\n",
    "\n",
    "y_true, y_pred = y_test, better_gbc_model.predict(X_test)\n",
    "print(classification_report(y_true, y_pred))"
   ]
  },
  {
   "cell_type": "code",
   "execution_count": 24,
   "metadata": {},
   "outputs": [
    {
     "name": "stdout",
     "output_type": "stream",
     "text": [
      "Feature: A Score: 0.02082\n",
      "Feature: C Score: 0.01019\n",
      "Feature: D Score: 0.00667\n",
      "Feature: E Score: 0.03433\n",
      "Feature: F Score: 0.01683\n",
      "Feature: G Score: 0.01101\n",
      "Feature: H Score: 0.01146\n",
      "Feature: I Score: 0.03154\n",
      "Feature: K Score: 0.01314\n",
      "Feature: L Score: 0.01480\n",
      "Feature: M Score: 0.01764\n",
      "Feature: N Score: 0.01377\n",
      "Feature: P Score: 0.00750\n",
      "Feature: Q Score: 0.00852\n",
      "Feature: R Score: 0.04516\n",
      "Feature: S Score: 0.00943\n",
      "Feature: T Score: 0.03908\n",
      "Feature: V Score: 0.01198\n",
      "Feature: W Score: 0.01045\n",
      "Feature: Y Score: 0.01502\n",
      "Feature: Molecular_weight Score: 0.01348\n",
      "Feature: Isoelectric_Point Score: 0.03184\n",
      "Feature: Aromaticity Score: 0.01145\n",
      "Feature: Helix Score: 0.02651\n",
      "Feature: Turn Score: 0.04412\n",
      "Feature: Sheet Score: 0.01710\n",
      "Feature: DNA_Size Score: 0.04875\n",
      "Feature: Prot_Size Score: 0.01252\n",
      "Feature: GC_Content_DNA Score: 0.07665\n",
      "Feature: AT_Content_DNA Score: 0.08251\n",
      "Feature: DNA_A Score: 0.06780\n",
      "Feature: DNA_C Score: 0.09641\n",
      "Feature: DNA_G Score: 0.07722\n",
      "Feature: DNA_T Score: 0.04429\n"
     ]
    }
   ],
   "source": [
    "from matplotlib import pyplot\n",
    "\n",
    "importance_gbc = better_gbc_model.feature_importances_\n",
    "feats = X.columns.tolist()\n",
    "# summarize feature importance\n",
    "for i,v in enumerate(importance_gbc):\n",
    "\tprint('Feature:', feats[i], 'Score: %.5f' % (v))"
   ]
  },
  {
   "cell_type": "code",
   "execution_count": 25,
   "metadata": {},
   "outputs": [
    {
     "data": {
      "text/plain": [
       "<matplotlib.axes._subplots.AxesSubplot at 0x164c561e820>"
      ]
     },
     "execution_count": 25,
     "metadata": {},
     "output_type": "execute_result"
    },
    {
     "data": {
      "image/png": "[encoded data removed]",
      "text/plain": [
       "<Figure size 1080x576 with 1 Axes>"
      ]
     },
     "metadata": {
      "needs_background": "light"
     },
     "output_type": "display_data"
    }
   ],
   "source": [
    "dic_features = dict(zip(feats, importance_gbc))\n",
    "\n",
    "feat_imp = pd.DataFrame.from_dict(dic_features, orient='index', columns=['importance'])\n",
    "\n",
    "feat_imp.plot(kind='barh',figsize=(15, 8))"
   ]
  },
  {
   "cell_type": "markdown",
   "metadata": {},
   "source": [
    "# Logistic Regression"
   ]
  },
  {
   "cell_type": "code",
   "execution_count": 2,
   "metadata": {},
   "outputs": [],
   "source": [
    "from sklearn.linear_model import LogisticRegression\n",
    "\n",
    "lr_model = LogisticRegression()"
   ]
  },
  {
   "cell_type": "code",
   "execution_count": 3,
   "metadata": {},
   "outputs": [
    {
     "data": {
      "text/plain": [
       "RandomizedSearchCV(cv=5, estimator=LogisticRegression(),\n",
       "                   param_distributions={'C': [0.1, 1, 10, 100, 1000],\n",
       "                                        'fit_intercept': [True, False],\n",
       "                                        'penalty': ['l1', 'l2', 'elasticnet',\n",
       "                                                    'none'],\n",
       "                                        'solver': ['liblinear']})"
      ]
     },
     "execution_count": 3,
     "metadata": {},
     "output_type": "execute_result"
    }
   ],
   "source": [
    "from sklearn.model_selection import RandomizedSearchCV, cross_validate\n",
    "\n",
    "# For small datasets, ‘liblinear’ is a good choice, whereas ‘sag’ and ‘saga’ are faster for large ones;\n",
    "\n",
    "param = {\n",
    "    'penalty':['l1', 'l2', 'elasticnet', 'none'],\n",
    "    'solver':['liblinear'],\n",
    "    'C': [0.1,1, 10, 100, 1000],\n",
    "    'fit_intercept':[True, False],\n",
    "}\n",
    "\n",
    "rand_search_lr = RandomizedSearchCV(estimator=lr_model, param_distributions = param, cv=5)\n",
    "rand_search_lr.fit(X_train, y_train)"
   ]
  },
  {
   "cell_type": "code",
   "execution_count": 4,
   "metadata": {},
   "outputs": [
    {
     "name": "stdout",
     "output_type": "stream",
     "text": [
      "rand_search_lr.best_params_:  {'solver': 'liblinear', 'penalty': 'l2', 'fit_intercept': False, 'C': 1000}\n"
     ]
    }
   ],
   "source": [
    "print('rand_search_lr.best_params_: ',rand_search_lr.best_params_)"
   ]
  },
  {
   "cell_type": "code",
   "execution_count": 5,
   "metadata": {},
   "outputs": [],
   "source": [
    "new_lr_model = LogisticRegression(**rand_search_lr.best_params_)"
   ]
  },
  {
   "cell_type": "code",
   "execution_count": 6,
   "metadata": {},
   "outputs": [
    {
     "name": "stdout",
     "output_type": "stream",
     "text": [
      "Métrica: test_accuracy\n",
      "Resultados de cada fold: [0.88888889 0.94444444 1.         0.77777778 0.83333333]\n",
      "Média de todas as folds: 0.8888888888888887\n",
      "Desvio padrão: 0.0785674201318386\n",
      "Métrica: train_accuracy\n",
      "Resultados de cada fold: [0.91666667 0.88888889 0.88888889 0.93055556 0.93055556]\n",
      "Média de todas as folds: 0.9111111111111111\n",
      "Desvio padrão: 0.01883980550868133\n",
      "Métrica: test_precision\n",
      "Resultados de cada fold: [0.         0.66666667 1.         0.         0.        ]\n",
      "Média de todas as folds: 0.3333333333333333\n",
      "Desvio padrão: 0.42163702135578396\n",
      "Métrica: train_precision\n",
      "Resultados de cada fold: [1. 1. 1. 1. 1.]\n",
      "Média de todas as folds: 1.0\n",
      "Desvio padrão: 0.0\n",
      "Métrica: test_recall\n",
      "Resultados de cada fold: [0. 1. 1. 0. 0.]\n",
      "Média de todas as folds: 0.4\n",
      "Desvio padrão: 0.48989794855663565\n",
      "Métrica: train_recall\n",
      "Resultados de cada fold: [0.4        0.2        0.2        0.44444444 0.44444444]\n",
      "Média de todas as folds: 0.3377777777777778\n",
      "Desvio padrão: 0.11365966091150595\n",
      "Métrica: test_f1\n",
      "Resultados de cada fold: [0.  0.8 1.  0.  0. ]\n",
      "Média de todas as folds: 0.36\n",
      "Desvio padrão: 0.44542114902640173\n",
      "Métrica: train_f1\n",
      "Resultados de cada fold: [0.57142857 0.33333333 0.33333333 0.61538462 0.61538462]\n",
      "Média de todas as folds: 0.4937728937728938\n",
      "Desvio padrão: 0.13197797622859272\n"
     ]
    }
   ],
   "source": [
    "from sklearn.model_selection import cross_validate\n",
    "\n",
    "scoring_metrics = ['accuracy', 'precision', 'recall', 'f1']\n",
    "\n",
    "cv_scores_lr = cross_validate(new_lr_model, X_train, y_train, cv=5, scoring=scoring_metrics, return_train_score=True)\n",
    "\n",
    "for key, value in cv_scores_lr.items():\n",
    "    if key != \"fit_time\" and key != \"score_time\":\n",
    "        print(\"Métrica: %s\" % key)\n",
    "        print(\"Resultados de cada fold: %s\" % value) # resultados de cada fold\n",
    "        print(\"Média de todas as folds: %s\" % np.mean(value))\n",
    "        print(\"Desvio padrão: %s\" % np.std(value))"
   ]
  },
  {
   "cell_type": "code",
   "execution_count": 7,
   "metadata": {},
   "outputs": [],
   "source": [
    "better_lr_model = new_lr_model.fit(X_train, y_train)"
   ]
  },
  {
   "cell_type": "code",
   "execution_count": 8,
   "metadata": {},
   "outputs": [
    {
     "name": "stdout",
     "output_type": "stream",
     "text": [
      "Accuracy for Logistic Regression on CV data:  0.9016393442622951\n",
      "Precision for Logistic Regression on CV data:  1.0\n",
      "Recall for Logistic Regression on CV data:  0.14285714285714285\n"
     ]
    }
   ],
   "source": [
    "from sklearn.metrics import accuracy_score, precision_score, recall_score, f1_score\n",
    "\n",
    "y_pred = better_lr_model.predict(X_test)\n",
    "print(\"Accuracy for Logistic Regression on CV data: \",accuracy_score(y_test,y_pred))  \n",
    "print(\"Precision for Logistic Regression on CV data: \",precision_score(y_test,y_pred))\n",
    "print(\"Recall for Logistic Regression on CV data: \",recall_score(y_test,y_pred))"
   ]
  },
  {
   "cell_type": "code",
   "execution_count": 3,
   "metadata": {},
   "outputs": [
    {
     "name": "stdout",
     "output_type": "stream",
     "text": [
      "0.025\n"
     ]
    }
   ],
   "source": [
    "lr_f1score = 2 * (0.1 * 0.14285714285714285) / (1.0 + 0.14285714285714285)\n",
    "print(lr_f1score)"
   ]
  },
  {
   "cell_type": "code",
   "execution_count": 13,
   "metadata": {},
   "outputs": [
    {
     "name": "stdout",
     "output_type": "stream",
     "text": [
      "[{'accuracy': 0.9016393442622951, 'precision': 1.0, 'recall': 0.14285714285714285}]\n"
     ]
    }
   ],
   "source": [
    "import csv\n",
    "metrics_names = ['accuracy', 'precision', 'recall']\n",
    "\n",
    "dict_LR=[{'accuracy':accuracy_score(y_test,y_pred),'precision':precision_score(y_test,y_pred),'recall':recall_score(y_test,y_pred)}]\n",
    "\n",
    "print(dict_LR)\n",
    "\n",
    "with open('LR_metrics.csv', 'w') as csvfile:\n",
    "    writer = csv.DictWriter(csvfile, fieldnames = metrics_names)\n",
    "    writer.writeheader()\n",
    "    writer.writerows(dict_LR)"
   ]
  },
  {
   "cell_type": "code",
   "execution_count": 9,
   "metadata": {},
   "outputs": [
    {
     "data": {
      "text/plain": [
       "Text(91.68, 0.5, 'predicted label')"
      ]
     },
     "execution_count": 9,
     "metadata": {},
     "output_type": "execute_result"
    },
    {
     "data": {
      "image/png": "[encoded data removed]",
      "text/plain": [
       "<Figure size 432x288 with 1 Axes>"
      ]
     },
     "metadata": {
      "needs_background": "light"
     },
     "output_type": "display_data"
    }
   ],
   "source": [
    "from sklearn.metrics import confusion_matrix\n",
    "from sklearn.metrics import *\n",
    "import seaborn as sns\n",
    "import matplotlib.pyplot as plt\n",
    "\n",
    "cm_lr = confusion_matrix(y_test, y_pred)\n",
    "\n",
    "sns.heatmap(cm_lr.T, square=True, annot=True, fmt='d', cbar=False)\n",
    "plt.xlabel('true label')\n",
    "plt.ylabel('predicted label')"
   ]
  },
  {
   "cell_type": "code",
   "execution_count": 10,
   "metadata": {},
   "outputs": [
    {
     "name": "stdout",
     "output_type": "stream",
     "text": [
      "              precision    recall  f1-score   support\n",
      "\n",
      "           0       0.90      1.00      0.95        54\n",
      "           1       1.00      0.14      0.25         7\n",
      "\n",
      "    accuracy                           0.90        61\n",
      "   macro avg       0.95      0.57      0.60        61\n",
      "weighted avg       0.91      0.90      0.87        61\n",
      "\n"
     ]
    }
   ],
   "source": [
    "from sklearn.metrics import classification_report\n",
    "\n",
    "y_true, y_pred = y_test, better_lr_model.predict(X_test)\n",
    "print(classification_report(y_true, y_pred))"
   ]
  },
  {
   "cell_type": "code",
   "execution_count": 11,
   "metadata": {},
   "outputs": [
    {
     "name": "stdout",
     "output_type": "stream",
     "text": [
      "Feature: A Score: -4.51518\n",
      "Feature: C Score: 10.85951\n",
      "Feature: D Score: 1.64480\n",
      "Feature: E Score: -6.39915\n",
      "Feature: F Score: 2.21098\n",
      "Feature: G Score: -6.53209\n",
      "Feature: H Score: -2.99512\n",
      "Feature: I Score: -27.38203\n",
      "Feature: K Score: 4.46477\n",
      "Feature: L Score: 9.70870\n",
      "Feature: M Score: -0.65427\n",
      "Feature: N Score: -3.89797\n",
      "Feature: P Score: 4.98501\n",
      "Feature: Q Score: -5.58388\n",
      "Feature: R Score: -0.68401\n",
      "Feature: S Score: 8.77092\n",
      "Feature: T Score: 6.18061\n",
      "Feature: V Score: 11.77734\n",
      "Feature: W Score: 14.83309\n",
      "Feature: Y Score: 4.01706\n",
      "Feature: Molecular_weight Score: -0.89154\n",
      "Feature: Isoelectric_Point Score: 14.45623\n",
      "Feature: Aromaticity Score: 12.12214\n",
      "Feature: Helix Score: -5.79082\n",
      "Feature: Turn Score: 1.45246\n",
      "Feature: Sheet Score: -2.23533\n",
      "Feature: DNA_Size Score: -0.59644\n",
      "Feature: Prot_Size Score: -1.49184\n",
      "Feature: GC_Content_DNA Score: -3.18280\n",
      "Feature: AT_Content_DNA Score: 0.10951\n",
      "Feature: DNA_A Score: -3.06857\n",
      "Feature: DNA_C Score: 5.65080\n",
      "Feature: DNA_G Score: -0.03172\n",
      "Feature: DNA_T Score: -2.08722\n"
     ]
    }
   ],
   "source": [
    "from matplotlib import pyplot\n",
    "\n",
    "importance_lr = (better_lr_model.coef_).T\n",
    "feats = X.columns.tolist()\n",
    "# summarize feature importance\n",
    "for i,v in enumerate(importance_lr):\n",
    "\tprint('Feature:', feats[i], 'Score: %.5f' % (v))"
   ]
  },
  {
   "cell_type": "code",
   "execution_count": 12,
   "metadata": {},
   "outputs": [
    {
     "data": {
      "text/plain": [
       "<matplotlib.axes._subplots.AxesSubplot at 0x2bb43301520>"
      ]
     },
     "execution_count": 12,
     "metadata": {},
     "output_type": "execute_result"
    },
    {
     "data": {
      "image/png": "[encoded data removed]",
      "text/plain": [
       "<Figure size 1080x576 with 1 Axes>"
      ]
     },
     "metadata": {
      "needs_background": "light"
     },
     "output_type": "display_data"
    }
   ],
   "source": [
    "dic_features = dict(zip(feats, importance_lr))\n",
    "\n",
    "feat_imp = pd.DataFrame.from_dict(dic_features, orient='index', columns=['importance'])\n",
    "\n",
    "feat_imp.plot(kind='barh',figsize=(15, 8))"
   ]
  },
  {
   "cell_type": "markdown",
   "metadata": {},
   "source": [
    "# Artificial Neural Network (MLP)"
   ]
  },
  {
   "cell_type": "code",
   "execution_count": 2,
   "metadata": {},
   "outputs": [],
   "source": [
    "from sklearn.neural_network import MLPClassifier\n",
    "mlp_model=MLPClassifier()"
   ]
  },
  {
   "cell_type": "code",
   "execution_count": 3,
   "metadata": {},
   "outputs": [
    {
     "data": {
      "text/plain": [
       "RandomizedSearchCV(cv=5, estimator=MLPClassifier(),\n",
       "                   param_distributions={'alpha': <scipy.stats._distn_infrastructure.rv_frozen object at 0x00000164C2D46FA0>,\n",
       "                                        'max_iter': <scipy.stats._distn_infrastructure.rv_frozen object at 0x00000164C2D46C70>,\n",
       "                                        'solver': ['lbfgs', 'sgd', 'adam']})"
      ]
     },
     "execution_count": 3,
     "metadata": {},
     "output_type": "execute_result"
    }
   ],
   "source": [
    "from sklearn.model_selection import RandomizedSearchCV, cross_validate\n",
    "from scipy.stats import uniform as sp_randFloat\n",
    "from scipy.stats import randint as sp_randInt\n",
    "\n",
    "# https://www.projectpro.io/recipes/find-optimal-parameters-using-randomizedsearchcv\n",
    "\n",
    "parameters = { \"alpha\"    : sp_randFloat(),\n",
    "                'solver':['lbfgs', 'sgd', 'adam'],\n",
    "                  \"max_iter\" : sp_randInt(100,500)\n",
    "                 }\n",
    "\n",
    "rand_search_mlp = RandomizedSearchCV(estimator=mlp_model, param_distributions = parameters, cv=5)\n",
    "rand_search_mlp.fit(X_train, y_train)"
   ]
  },
  {
   "cell_type": "code",
   "execution_count": 4,
   "metadata": {},
   "outputs": [
    {
     "name": "stdout",
     "output_type": "stream",
     "text": [
      "rand_search_mlp.best_params_:  {'alpha': 0.9923727001336685, 'max_iter': 371, 'solver': 'sgd'}\n"
     ]
    }
   ],
   "source": [
    "print('rand_search_mlp.best_params_: ',rand_search_mlp.best_params_)"
   ]
  },
  {
   "cell_type": "code",
   "execution_count": 5,
   "metadata": {},
   "outputs": [],
   "source": [
    "new_mlp_model = MLPClassifier(**rand_search_mlp.best_params_)"
   ]
  },
  {
   "cell_type": "code",
   "execution_count": 6,
   "metadata": {},
   "outputs": [
    {
     "name": "stdout",
     "output_type": "stream",
     "text": [
      "Métrica: test_accuracy\n",
      "Resultados de cada fold: [0.88888889 0.88888889 0.88888889 0.94444444 0.94444444]\n",
      "Média de todas as folds: 0.9111111111111111\n",
      "Desvio padrão: 0.027216552697590882\n",
      "Métrica: train_accuracy\n",
      "Resultados de cada fold: [0.91666667 0.91666667 0.91666667 0.90277778 0.90277778]\n",
      "Média de todas as folds: 0.9111111111111111\n",
      "Desvio padrão: 0.006804138174397694\n",
      "Métrica: test_precision\n",
      "Resultados de cada fold: [0. 0. 0. 0. 0.]\n",
      "Média de todas as folds: 0.0\n",
      "Desvio padrão: 0.0\n",
      "Métrica: train_precision\n",
      "Resultados de cada fold: [0. 0. 0. 0. 0.]\n",
      "Média de todas as folds: 0.0\n",
      "Desvio padrão: 0.0\n",
      "Métrica: test_recall\n",
      "Resultados de cada fold: [0. 0. 0. 0. 0.]\n",
      "Média de todas as folds: 0.0\n",
      "Desvio padrão: 0.0\n",
      "Métrica: train_recall\n",
      "Resultados de cada fold: [0. 0. 0. 0. 0.]\n",
      "Média de todas as folds: 0.0\n",
      "Desvio padrão: 0.0\n",
      "Métrica: test_f1\n",
      "Resultados de cada fold: [0. 0. 0. 0. 0.]\n",
      "Média de todas as folds: 0.0\n",
      "Desvio padrão: 0.0\n",
      "Métrica: train_f1\n",
      "Resultados de cada fold: [0. 0. 0. 0. 0.]\n",
      "Média de todas as folds: 0.0\n",
      "Desvio padrão: 0.0\n"
     ]
    }
   ],
   "source": [
    "from sklearn.model_selection import cross_validate\n",
    "\n",
    "scoring_metrics = ['accuracy', 'precision', 'recall', 'f1']\n",
    "\n",
    "cv_scores_mlp = cross_validate(new_mlp_model, X_train, y_train, cv=5, scoring=scoring_metrics, return_train_score=True)\n",
    "\n",
    "for key, value in cv_scores_mlp.items():\n",
    "    if key != \"fit_time\" and key != \"score_time\":\n",
    "        print(\"Métrica: %s\" % key)\n",
    "        print(\"Resultados de cada fold: %s\" % value) # resultados de cada fold\n",
    "        print(\"Média de todas as folds: %s\" % np.mean(value))\n",
    "        print(\"Desvio padrão: %s\" % np.std(value))"
   ]
  },
  {
   "cell_type": "code",
   "execution_count": 7,
   "metadata": {},
   "outputs": [],
   "source": [
    "better_mlp_model = new_mlp_model.fit(X_train, y_train)"
   ]
  },
  {
   "cell_type": "code",
   "execution_count": 8,
   "metadata": {},
   "outputs": [
    {
     "name": "stdout",
     "output_type": "stream",
     "text": [
      "Accuracy for Artificial Neural Network on CV data:  0.819672131147541\n",
      "Precision for Artificial Neural Network on CV data:  0.0\n",
      "Recall for Artificial Neural Network on CV data:  0.0\n"
     ]
    }
   ],
   "source": [
    "from sklearn.metrics import accuracy_score, precision_score, recall_score, f1_score\n",
    "\n",
    "y_pred = better_mlp_model.predict(X_test)\n",
    "print(\"Accuracy for Artificial Neural Network on CV data: \",accuracy_score(y_test,y_pred))  \n",
    "print(\"Precision for Artificial Neural Network on CV data: \",precision_score(y_test,y_pred))\n",
    "print(\"Recall for Artificial Neural Network on CV data: \",recall_score(y_test,y_pred))"
   ]
  },
  {
   "cell_type": "code",
   "execution_count": 9,
   "metadata": {},
   "outputs": [
    {
     "name": "stdout",
     "output_type": "stream",
     "text": [
      "[{'accuracy': 0.819672131147541, 'precision': 0.0, 'recall': 0.0}]\n"
     ]
    }
   ],
   "source": [
    "import csv\n",
    "metrics_names = ['accuracy', 'precision', 'recall']\n",
    "\n",
    "dict_MLP=[{'accuracy':accuracy_score(y_test,y_pred),'precision':precision_score(y_test,y_pred),'recall':recall_score(y_test,y_pred)}]\n",
    "\n",
    "print(dict_MLP)\n",
    "\n",
    "with open('MLP_metrics.csv', 'w') as csvfile:\n",
    "    writer = csv.DictWriter(csvfile, fieldnames = metrics_names)\n",
    "    writer.writeheader()\n",
    "    writer.writerows(dict_MLP)\n",
    "    "
   ]
  },
  {
   "cell_type": "code",
   "execution_count": 10,
   "metadata": {},
   "outputs": [
    {
     "data": {
      "text/plain": [
       "Text(91.68, 0.5, 'predicted label')"
      ]
     },
     "execution_count": 10,
     "metadata": {},
     "output_type": "execute_result"
    },
    {
     "data": {
      "image/png": "[encoded data removed]",
      "text/plain": [
       "<Figure size 432x288 with 1 Axes>"
      ]
     },
     "metadata": {
      "needs_background": "light"
     },
     "output_type": "display_data"
    }
   ],
   "source": [
    "from sklearn.metrics import confusion_matrix\n",
    "from sklearn.metrics import *\n",
    "import seaborn as sns\n",
    "import matplotlib.pyplot as plt\n",
    "\n",
    "cm_mlp = confusion_matrix(y_test, y_pred)\n",
    "\n",
    "sns.heatmap(cm_mlp.T, square=True, annot=True, fmt='d', cbar=False)\n",
    "plt.xlabel('true label')\n",
    "plt.ylabel('predicted label')"
   ]
  },
  {
   "cell_type": "code",
   "execution_count": 11,
   "metadata": {},
   "outputs": [
    {
     "name": "stdout",
     "output_type": "stream",
     "text": [
      "              precision    recall  f1-score   support\n",
      "\n",
      "           0       0.82      1.00      0.90        50\n",
      "           1       0.00      0.00      0.00        11\n",
      "\n",
      "    accuracy                           0.82        61\n",
      "   macro avg       0.41      0.50      0.45        61\n",
      "weighted avg       0.67      0.82      0.74        61\n",
      "\n"
     ]
    }
   ],
   "source": [
    "from sklearn.metrics import classification_report\n",
    "\n",
    "y_true, y_pred = y_test, better_mlp_model.predict(X_test)\n",
    "print(classification_report(y_true, y_pred))"
   ]
  },
  {
   "cell_type": "markdown",
   "metadata": {},
   "source": [
    "# Guardar modelos em pickle"
   ]
  },
  {
   "cell_type": "code",
   "execution_count": 14,
   "metadata": {},
   "outputs": [],
   "source": [
    "import pickle\n",
    "\n",
    "with open ('rfc_model.pkl','wb') as file:\n",
    "    pickle.dump(better_rfc_model, file)"
   ]
  },
  {
   "cell_type": "code",
   "execution_count": 21,
   "metadata": {},
   "outputs": [],
   "source": [
    "import pickle\n",
    "\n",
    "with open ('svc_model_2.pkl','wb') as file:\n",
    "    pickle.dump(better_svc_model, file)"
   ]
  },
  {
   "cell_type": "code",
   "execution_count": 26,
   "metadata": {},
   "outputs": [],
   "source": [
    "import pickle\n",
    "\n",
    "with open ('gbc_model.pkl','wb') as file:\n",
    "    pickle.dump(better_gbc_model, file)"
   ]
  },
  {
   "cell_type": "code",
   "execution_count": 14,
   "metadata": {},
   "outputs": [],
   "source": [
    "import pickle\n",
    "\n",
    "with open ('lr_model.pkl','wb') as file:\n",
    "    pickle.dump(better_lr_model, file)"
   ]
  },
  {
   "cell_type": "code",
   "execution_count": 12,
   "metadata": {},
   "outputs": [],
   "source": [
    "import pickle\n",
    "\n",
    "with open ('mlp_model.pkl','wb') as file:\n",
    "    pickle.dump(better_mlp_model, file)"
   ]
  }
 ],
 "metadata": {
  "interpreter": {
   "hash": "37134ace218921b74af13dd92c56fdadfb15c5b94d65c3fac1e4c7a849f19ee9"
  },
  "kernelspec": {
   "display_name": "Python 3.8.8 ('base')",
   "language": "python",
   "name": "python3"
  },
  "language_info": {
   "codemirror_mode": {
    "name": "ipython",
    "version": 3
   },
   "file_extension": ".py",
   "mimetype": "text/x-python",
   "name": "python",
   "nbconvert_exporter": "python",
   "pygments_lexer": "ipython3",
   "version": "3.8.8"
  },
  "orig_nbformat": 4
 },
 "nbformat": 4,
 "nbformat_minor": 2
}
